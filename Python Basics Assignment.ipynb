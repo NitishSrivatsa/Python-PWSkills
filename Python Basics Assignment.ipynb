{
 "cells": [
  {
   "cell_type": "raw",
   "id": "7c2cdc5b-0be6-4e3c-b34b-717e63e8f176",
   "metadata": {},
   "source": [
    "1)\tWhat is Python, and why is it popular?\n",
    "Python is a high-level, interpreted programming language known for its simplicity and readability. It is popular because it supports multiple programming paradigms (object-oriented, procedural, and functional), has a vast standard library, and is widely used for web development, data science, artificial intelligence, and automation.\n",
    "\n",
    "2)\tWhat is an interpreter in Python?\n",
    "An interpreter in Python is a program that executes Python code line by line. It translates Python scripts into machine code at runtime, allowing developers to test and debug code quickly.\n",
    "\n",
    "3)\tWhat are pre-defined keywords in Python?\n",
    "Pre-defined keywords in Python are reserved words that have special meanings and cannot be used as identifiers (e.g., variable names). Examples include if, else, True, False, class, def, return, while, and break.\n",
    "\n",
    "4)\tCan keywords be used as variable names?\n",
    "No, keywords cannot be used as variable names because they have predefined meanings in Python's syntax and are essential for the correct execution of programs.\n",
    "\n",
    "5)\tWhat is mutability in Python?\n",
    "Mutability refers to the ability of an object to be modified after its creation. Mutable objects, like lists and dictionaries, can be changed, while immutable objects, like tuples and strings, cannot.\n",
    "\n",
    "6)\tWhy are lists mutable, but tuples are immutable?\n",
    "Lists are mutable to allow flexibility for dynamic operations like appending, removing, or updating elements. Tuples are immutable to ensure consistency and optimize performance when dealing with fixed collections of data.\n",
    "\n",
    "    7)\tWhat is the difference between == and is operators in Python?\n",
    "            ==: Compares the values of two objects to check if they are equal.\n",
    "            is: Checks if two objects refer to the same memory location (identity comparison).\n",
    "\n",
    "8)\tWhat are logical operators in Python?\n",
    "Logical operators in Python are used to combine conditional statements. They include:\n",
    "    and: Returns True if both conditions are true.\n",
    "    or: Returns True if at least one condition is true.\n",
    "    not: Reverses the logical state of the operand.\n",
    "\n",
    "9)\tWhat is type casting in Python?\n",
    "Type casting in Python refers to converting one data type into another. It is used to perform operations that require specific data types.\n",
    "\n",
    "10)\tWhat is the difference between implicit and explicit type casting?\n",
    "    Implicit Type Casting: Performed automatically by Python when it converts smaller data types to larger ones (e.g., integer to float).\n",
    "    Explicit Type Casting: Manually performed by the programmer using functions like int(), float(), or str().\n",
    "\n",
    "11)\tWhat is the purpose of conditional statements in Python?\n",
    "Conditional statements control the flow of a program based on certain conditions. They allow the program to make decisions and execute specific code blocks, such as in if, elif, and else statements.\n",
    "\n",
    "12)\tHow does the elif statement work?\n",
    "The elif statement allows you to check multiple conditions sequentially. It is evaluated only if the preceding if or elif condition is false.\n",
    "\n",
    "13)\tWhat is the difference between for and while loops?\n",
    "        for Loop: Used to iterate over a sequence (like a list or range) for a fixed number of iterations.\n",
    "        while Loop: Used to execute a block of code as long as a specified condition is true, making it suitable for indeterminate iterations.\n",
    "\n",
    "14)\tDescribe a scenario where a while loop is more suitable than a for loop.\n",
    "A while loop is more suitable when the number of iterations is not known beforehand, such as waiting for user input to meet a specific condition (e.g., asking for a password until the correct one is entered).\n"
   ]
  },
  {
   "cell_type": "code",
   "execution_count": 2,
   "id": "928dd4ab-ca9a-4f35-a269-43ff02e43e71",
   "metadata": {},
   "outputs": [
    {
     "name": "stdout",
     "output_type": "stream",
     "text": [
      "Hello, World!\n"
     ]
    }
   ],
   "source": [
    "#1)\tWrite a Python program to print \"Hello, World! \n",
    "\n",
    "print(\"Hello, World!\")"
   ]
  },
  {
   "cell_type": "code",
   "execution_count": 4,
   "id": "3aee6b46-f615-4cc6-a9e3-533153f4258c",
   "metadata": {},
   "outputs": [
    {
     "name": "stdout",
     "output_type": "stream",
     "text": [
      "My name is Nitish S and I am 24 years old.\n"
     ]
    }
   ],
   "source": [
    "#2)\tWrite a Python program that displays your name and age. \n",
    "\n",
    "name = \"Nitish S\"\n",
    "age = 24 \n",
    "print(f\"My name is {name} and I am {age} years old.\")\n"
   ]
  },
  {
   "cell_type": "code",
   "execution_count": 5,
   "id": "81dc604c-d959-4c47-b931-551e80bb8ba0",
   "metadata": {},
   "outputs": [
    {
     "name": "stdout",
     "output_type": "stream",
     "text": [
      "['False', 'None', 'True', 'and', 'as', 'assert', 'async', 'await', 'break', 'class', 'continue', 'def', 'del', 'elif', 'else', 'except', 'finally', 'for', 'from', 'global', 'if', 'import', 'in', 'is', 'lambda', 'nonlocal', 'not', 'or', 'pass', 'raise', 'return', 'try', 'while', 'with', 'yield']\n"
     ]
    }
   ],
   "source": [
    "#3)\tWrite code to print all the pre-defined keywords in Python using the keyword library.\n",
    "\n",
    "import keyword\n",
    "print(keyword.kwlist)"
   ]
  },
  {
   "cell_type": "code",
   "execution_count": 6,
   "id": "a6680fda-4ae8-47fb-a185-18a16b5a911f",
   "metadata": {},
   "outputs": [
    {
     "name": "stdin",
     "output_type": "stream",
     "text": [
      "Enter a word:  notion\n"
     ]
    },
    {
     "name": "stdout",
     "output_type": "stream",
     "text": [
      "'notion' is not a Python keyword.\n"
     ]
    }
   ],
   "source": [
    "#4)\tWrite a program that checks if a given word is a Python keyword. \n",
    "\n",
    "import keyword\n",
    "word = input(\"Enter a word: \")\n",
    "if keyword.iskeyword(word):\n",
    "    print(f\"'{word}' is a Python keyword.\")\n",
    "else:\n",
    "    print(f\"'{word}' is not a Python keyword.\")\n"
   ]
  },
  {
   "cell_type": "code",
   "execution_count": 7,
   "id": "fabb0078-b4eb-43f1-95c3-ca4ef359f2f1",
   "metadata": {},
   "outputs": [
    {
     "name": "stdout",
     "output_type": "stream",
     "text": [
      "Modified list: [1, 42, 3]\n",
      "Error: 'tuple' object does not support item assignment\n"
     ]
    }
   ],
   "source": [
    "#5)\tCreate a list and tuple in Python, and demonstrate how attempting to change an element works differently for each.\n",
    "\n",
    "# List (mutable)\n",
    "my_list = [1, 2, 3]\n",
    "my_list[1] = 42\n",
    "print(\"Modified list:\", my_list)\n",
    "\n",
    "# Tuple (immutable)\n",
    "my_tuple = (1, 2, 3)\n",
    "try:\n",
    "    my_tuple[1] = 42\n",
    "except TypeError as e:\n",
    "    print(\"Error:\", e)\n"
   ]
  },
  {
   "cell_type": "code",
   "execution_count": 8,
   "id": "8efecd79-0764-4717-83e8-df27198f374a",
   "metadata": {},
   "outputs": [
    {
     "name": "stdout",
     "output_type": "stream",
     "text": [
      "Inside function:\n",
      "Mutable: [1, 2, 3, 99]\n",
      "Immutable: 11\n",
      "Outside function:\n",
      "Mutable: [1, 2, 3, 99]\n",
      "Immutable: 10\n"
     ]
    }
   ],
   "source": [
    "#6)\tWrite a function to demonstrate the behavior of mutable and immutable arguments.\n",
    "\n",
    "def modify_elements(mutable_arg, immutable_arg):\n",
    "    # Modify mutable argument\n",
    "    mutable_arg.append(99)\n",
    "    # Attempt to modify immutable argument\n",
    "    immutable_arg += 1\n",
    "    print(\"Inside function:\")\n",
    "    print(\"Mutable:\", mutable_arg)\n",
    "    print(\"Immutable:\", immutable_arg)\n",
    "\n",
    "my_list = [1, 2, 3]\n",
    "my_int = 10\n",
    "modify_elements(my_list, my_int)\n",
    "print(\"Outside function:\")\n",
    "print(\"Mutable:\", my_list)\n",
    "print(\"Immutable:\", my_int)\n"
   ]
  },
  {
   "cell_type": "code",
   "execution_count": 9,
   "id": "c83aaeb4-ccc4-4ff7-b362-0b5355a80c4e",
   "metadata": {},
   "outputs": [
    {
     "name": "stdout",
     "output_type": "stream",
     "text": [
      "Inside function:\n",
      "Mutable: [1, 2, 3, 99]\n",
      "Immutable: 11\n",
      "Outside function:\n",
      "Mutable: [1, 2, 3, 99]\n",
      "Immutable: 10\n"
     ]
    }
   ],
   "source": [
    "#7)\tWrite a function to demonstrate the behavior of mutable and immutable arguments.\n",
    "\n",
    "def modify_elements(mutable_arg, immutable_arg):\n",
    "    # Modify mutable argument\n",
    "    mutable_arg.append(99)\n",
    "    # Attempt to modify immutable argument\n",
    "    immutable_arg += 1\n",
    "    print(\"Inside function:\")\n",
    "    print(\"Mutable:\", mutable_arg)\n",
    "    print(\"Immutable:\", immutable_arg)\n",
    "\n",
    "my_list = [1, 2, 3]\n",
    "my_int = 10\n",
    "modify_elements(my_list, my_int)\n",
    "print(\"Outside function:\")\n",
    "print(\"Mutable:\", my_list)\n",
    "print(\"Immutable:\", my_int)\n"
   ]
  },
  {
   "cell_type": "code",
   "execution_count": 10,
   "id": "24dccbdb-1b1e-49a9-870a-4e6ad601564c",
   "metadata": {},
   "outputs": [
    {
     "name": "stdout",
     "output_type": "stream",
     "text": [
      "a and b: False\n",
      "a or b: True\n",
      "not a: False\n"
     ]
    }
   ],
   "source": [
    "#8)\tWrite a program to demonstrate the use of logical operators.\n",
    "\n",
    "a = True\n",
    "b = False\n",
    "\n",
    "print(\"a and b:\", a and b)\n",
    "print(\"a or b:\", a or b)\n",
    "print(\"not a:\", not a)\n"
   ]
  },
  {
   "cell_type": "code",
   "execution_count": 11,
   "id": "9fc3347a-87e6-49bf-9871-7dd717ad8ef1",
   "metadata": {},
   "outputs": [
    {
     "name": "stdin",
     "output_type": "stream",
     "text": [
      "Enter a value:  12\n"
     ]
    },
    {
     "name": "stdout",
     "output_type": "stream",
     "text": [
      "Integer: 12\n",
      "Float: 12.0\n",
      "Boolean: True\n"
     ]
    }
   ],
   "source": [
    "#9)\tWrite a Python program to convert user input from string to integer, float, and boolean types.\n",
    "\n",
    "user_input = input(\"Enter a value: \")\n",
    "int_value = int(user_input)\n",
    "float_value = float(user_input)\n",
    "bool_value = bool(user_input)\n",
    "print(\"Integer:\", int_value)\n",
    "print(\"Float:\", float_value)\n",
    "print(\"Boolean:\", bool_value)\n"
   ]
  },
  {
   "cell_type": "code",
   "execution_count": 12,
   "id": "f7323a04-13b6-4174-bb41-19518e20b9e9",
   "metadata": {},
   "outputs": [
    {
     "name": "stdout",
     "output_type": "stream",
     "text": [
      "Original list: ['1', '2', '3']\n",
      "List after type casting: [1, 2, 3]\n"
     ]
    }
   ],
   "source": [
    "#10)\tWrite code to demonstrate type casting with list elements.\n",
    "\n",
    "my_list = [\"1\", \"2\", \"3\"]\n",
    "int_list = [int(item) for item in my_list]\n",
    "print(\"Original list:\", my_list)\n",
    "print(\"List after type casting:\", int_list)\n"
   ]
  },
  {
   "cell_type": "code",
   "execution_count": 13,
   "id": "ca510367-1a49-4b67-91fe-b7d4f48ab682",
   "metadata": {},
   "outputs": [
    {
     "name": "stdin",
     "output_type": "stream",
     "text": [
      "Enter a number:  -9\n"
     ]
    },
    {
     "name": "stdout",
     "output_type": "stream",
     "text": [
      "The number is negative.\n"
     ]
    }
   ],
   "source": [
    "#11)\tWrite a program that checks if a number is positive, negative, or zero.\n",
    "\n",
    "num = float(input(\"Enter a number: \"))\n",
    "if num > 0:\n",
    "    print(\"The number is positive.\")\n",
    "elif num < 0:\n",
    "    print(\"The number is negative.\")\n",
    "else:\n",
    "    print(\"The number is zero.\")\n"
   ]
  },
  {
   "cell_type": "code",
   "execution_count": 14,
   "id": "41a878e5-0580-4214-9a2d-0f3ab189ea79",
   "metadata": {},
   "outputs": [
    {
     "name": "stdout",
     "output_type": "stream",
     "text": [
      "1\n",
      "2\n",
      "3\n",
      "4\n",
      "5\n",
      "6\n",
      "7\n",
      "8\n",
      "9\n",
      "10\n"
     ]
    }
   ],
   "source": [
    "#12)\tWrite a for loop to print numbers from 1 to 10. \n",
    "\n",
    "for i in range(1, 11):\n",
    "    print(i)\n"
   ]
  },
  {
   "cell_type": "code",
   "execution_count": 15,
   "id": "7053be96-0a6f-4570-bb58-853887bc6c81",
   "metadata": {},
   "outputs": [
    {
     "name": "stdout",
     "output_type": "stream",
     "text": [
      "Sum of all even numbers between 1 and 50: 650\n"
     ]
    }
   ],
   "source": [
    "#13)\tWrite a Python program to find the sum of all even numbers between 1 and 50. \n",
    "\n",
    "total = sum(i for i in range(1, 51) if i % 2 == 0)\n",
    "print(\"Sum of all even numbers between 1 and 50:\", total)\n"
   ]
  },
  {
   "cell_type": "code",
   "execution_count": 16,
   "id": "822e4938-b65a-4afe-ba88-9afd23793ce6",
   "metadata": {},
   "outputs": [
    {
     "name": "stdin",
     "output_type": "stream",
     "text": [
      "Enter a string:  Programming\n"
     ]
    },
    {
     "name": "stdout",
     "output_type": "stream",
     "text": [
      "Reversed string: gnimmargorP\n"
     ]
    }
   ],
   "source": [
    "#14)\tWrite a program to reverse a string using a while loop. \n",
    "\n",
    "my_string = input(\"Enter a string: \")\n",
    "reversed_string = \"\"\n",
    "index = len(my_string) - 1\n",
    "while index >= 0:\n",
    "    reversed_string += my_string[index]\n",
    "    index -= 1\n",
    "print(\"Reversed string:\", reversed_string)\n"
   ]
  },
  {
   "cell_type": "code",
   "execution_count": 18,
   "id": "3c822666-6761-42b3-a013-2d8b168d5c5a",
   "metadata": {},
   "outputs": [
    {
     "name": "stdin",
     "output_type": "stream",
     "text": [
      "Enter a number:  8\n"
     ]
    },
    {
     "name": "stdout",
     "output_type": "stream",
     "text": [
      "Factorial: 40320\n"
     ]
    }
   ],
   "source": [
    "#15)\tWrite a Python program to calculate the factorial of a number provided by the user using a while loop.\n",
    "\n",
    "num = int(input(\"Enter a number: \"))\n",
    "factorial = 1\n",
    "while num > 0:\n",
    "    factorial *= num\n",
    "    num -= 1\n",
    "print(\"Factorial:\", factorial)\n"
   ]
  }
 ],
 "metadata": {
  "kernelspec": {
   "display_name": "Python 3 (ipykernel)",
   "language": "python",
   "name": "python3"
  },
  "language_info": {
   "codemirror_mode": {
    "name": "ipython",
    "version": 3
   },
   "file_extension": ".py",
   "mimetype": "text/x-python",
   "name": "python",
   "nbconvert_exporter": "python",
   "pygments_lexer": "ipython3",
   "version": "3.10.5"
  }
 },
 "nbformat": 4,
 "nbformat_minor": 5
}
