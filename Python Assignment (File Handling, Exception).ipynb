{
 "cells": [
  {
   "cell_type": "code",
   "execution_count": 1,
   "id": "42a98b23-1cbf-4d03-a1b7-4e74deb17694",
   "metadata": {},
   "outputs": [],
   "source": [
    "# 1. How can you open a file for writing in Python and write a string to it?\n",
    "with open(\"output.txt\", \"w\") as file:\n",
    "    file.write(\"Hello, World!\")"
   ]
  },
  {
   "cell_type": "code",
   "execution_count": 2,
   "id": "11066cbe-29d3-422a-a423-257caebbec97",
   "metadata": {},
   "outputs": [
    {
     "name": "stdout",
     "output_type": "stream",
     "text": [
      "Hello Hi\n",
      "This is the python assignment for file handling, exceptions and logging.\n"
     ]
    }
   ],
   "source": [
    "# 2. Write a Python program to read the contents of a file and print each line.\n",
    "with open(\"input.txt\", \"r\") as file:\n",
    "    for line in file:\n",
    "        print(line.strip())"
   ]
  },
  {
   "cell_type": "code",
   "execution_count": 3,
   "id": "a5cbaa5e-8ef8-48a8-b192-e6b8d1215910",
   "metadata": {},
   "outputs": [
    {
     "name": "stdout",
     "output_type": "stream",
     "text": [
      "The file does not exist.\n"
     ]
    }
   ],
   "source": [
    "# 3. How would you handle a case where the file doesn't exist while trying to open it for reading?\n",
    "try:\n",
    "    with open(\"nonexistent.txt\", \"r\") as file:\n",
    "        print(file.read())\n",
    "except FileNotFoundError:\n",
    "    print(\"The file does not exist.\")"
   ]
  },
  {
   "cell_type": "code",
   "execution_count": 9,
   "id": "d1a3006e-260f-4740-949c-60676d41b78b",
   "metadata": {},
   "outputs": [
    {
     "name": "stdout",
     "output_type": "stream",
     "text": [
      "Hello Hi\n",
      "This is the python assignment for file handling, exceptions and logging.\n"
     ]
    }
   ],
   "source": [
    "# 4. Write a Python script that reads from one file and writes its content to another file.\n",
    "with open(\"input.txt\", \"r\") as source, open(\"output.txt\", \"w\") as dest:\n",
    "    dest.write(source.read())\n",
    "\n",
    "with open(\"output.txt\", \"r\") as file:\n",
    "    for line in file:\n",
    "        print(line.strip())"
   ]
  },
  {
   "cell_type": "code",
   "execution_count": 10,
   "id": "26de5b56-a8be-475d-baa1-6485989b0811",
   "metadata": {},
   "outputs": [
    {
     "name": "stdout",
     "output_type": "stream",
     "text": [
      "Division by zero is not allowed.\n"
     ]
    }
   ],
   "source": [
    "# 5. How would you catch and handle division by zero error in Python?\n",
    "try:\n",
    "    result = 10 / 0\n",
    "except ZeroDivisionError:\n",
    "    print(\"Division by zero is not allowed.\")"
   ]
  },
  {
   "cell_type": "code",
   "execution_count": 13,
   "id": "8574cfa3-1a53-4ac3-b19f-5388100207a3",
   "metadata": {},
   "outputs": [
    {
     "name": "stdout",
     "output_type": "stream",
     "text": [
      "ERROR:root:Division by zero error occurred.\n",
      "Traceback (most recent call last):\n",
      "File \"C:\\Users\\nitis\\AppData\\Local\\Temp\\ipykernel_12784\\3804244323.py\", line 6, in <cell line: 5>\n",
      "result = 10 / 0\n",
      "ZeroDivisionError: division by zero\n",
      "ERROR:root:Division by zero error occurred.\n",
      "Traceback (most recent call last):\n",
      "File \"C:\\Users\\nitis\\AppData\\Local\\Temp\\ipykernel_12784\\3804244323.py\", line 6, in <cell line: 5>\n",
      "result = 10 / 0\n",
      "ZeroDivisionError: division by zero\n",
      "ERROR:root:Division by zero error occurred.\n",
      "Traceback (most recent call last):\n",
      "File \"C:\\Users\\nitis\\AppData\\Local\\Temp\\ipykernel_12784\\1534320203.py\", line 6, in <cell line: 5>\n",
      "result = 10 / 0\n",
      "ZeroDivisionError: division by zero\n"
     ]
    }
   ],
   "source": [
    "# 6. Write a Python program that logs an error message to a log file when a division by zero exception occurs.\n",
    "import logging\n",
    "\n",
    "logging.basicConfig(filename=\"error.log\", level=logging.ERROR)\n",
    "try:\n",
    "    result = 10 / 0\n",
    "except ZeroDivisionError:\n",
    "    logging.error(\"Division by zero error occurred.\", exc_info=True)\n",
    "\n",
    "with open(\"error.log\", \"r\") as file:\n",
    "    for line in file:\n",
    "        print(line.strip())"
   ]
  },
  {
   "cell_type": "code",
   "execution_count": 14,
   "id": "700f8505-bb27-4747-bde3-24a8b55d8ac3",
   "metadata": {},
   "outputs": [],
   "source": [
    "# 7. How do you log information at different levels (INFO, ERROR, WARNING) in Python using the logging module?\n",
    "logging.basicConfig(level=logging.DEBUG)\n",
    "logging.info(\"This is an informational message.\")\n",
    "logging.warning(\"This is a warning message.\")\n",
    "logging.error(\"This is an error message.\")"
   ]
  },
  {
   "cell_type": "code",
   "execution_count": 15,
   "id": "930b37fe-f3cc-46ca-b83f-00f4fffeb5a2",
   "metadata": {},
   "outputs": [
    {
     "name": "stdout",
     "output_type": "stream",
     "text": [
      "Failed to open the file.\n"
     ]
    }
   ],
   "source": [
    "# 8. Write a program to handle a file opening error using exception handling.\n",
    "try:\n",
    "    with open(\"nonexistent.txt\", \"r\") as file:\n",
    "        print(file.read())\n",
    "except FileNotFoundError:\n",
    "    print(\"Failed to open the file.\")"
   ]
  },
  {
   "cell_type": "code",
   "execution_count": 16,
   "id": "d72bdaee-4c9c-4af0-8ba2-598457373908",
   "metadata": {},
   "outputs": [
    {
     "name": "stdout",
     "output_type": "stream",
     "text": [
      "['Hello Hi', 'This is the python assignment for file handling, exceptions and logging.']\n"
     ]
    }
   ],
   "source": [
    "# 9. How can you read a file line by line and store its content in a list in Python?\n",
    "with open(\"input.txt\", \"r\") as file:\n",
    "    lines = [line.strip() for line in file]\n",
    "print(lines)"
   ]
  },
  {
   "cell_type": "code",
   "execution_count": 17,
   "id": "a3d4ed49-286c-44d9-b89d-3c71f2d14310",
   "metadata": {},
   "outputs": [
    {
     "name": "stdout",
     "output_type": "stream",
     "text": [
      "Hello Hi\n",
      "This is the python assignment for file handling, exceptions and logging.Appended line.\n"
     ]
    }
   ],
   "source": [
    "# 10. How can you append data to an existing file in Python?\n",
    "with open(\"input.txt\", \"a\") as file:\n",
    "    file.write(\"Appended line.\\n\")\n",
    "\n",
    "with open(\"input.txt\", \"r\") as file:\n",
    "    for line in file:\n",
    "        print(line.strip())"
   ]
  },
  {
   "cell_type": "code",
   "execution_count": 18,
   "id": "6c56108a-acfe-4dec-8517-60da917a7733",
   "metadata": {},
   "outputs": [
    {
     "name": "stdout",
     "output_type": "stream",
     "text": [
      "Key not found in the dictionary.\n"
     ]
    }
   ],
   "source": [
    "# 11. Write a Python program that uses a try-except block to handle an error when attempting to access a dictionary key that doesn't exist.\n",
    "try:\n",
    "    my_dict = {\"key\": \"value\"}\n",
    "    print(my_dict[\"missing_key\"])\n",
    "except KeyError:\n",
    "    print(\"Key not found in the dictionary.\")"
   ]
  },
  {
   "cell_type": "code",
   "execution_count": 19,
   "id": "5f2358fd-9909-4671-849c-e811fd739dbf",
   "metadata": {},
   "outputs": [
    {
     "name": "stdout",
     "output_type": "stream",
     "text": [
      "Division by zero error.\n"
     ]
    }
   ],
   "source": [
    "# 12. Write a program that demonstrates using multiple except blocks to handle different types of exceptions.\n",
    "try:\n",
    "    result = 10 / 0\n",
    "except ZeroDivisionError:\n",
    "    print(\"Division by zero error.\")\n",
    "except ValueError:\n",
    "    print(\"Value error occurred.\")"
   ]
  },
  {
   "cell_type": "code",
   "execution_count": 21,
   "id": "c301a0ce-2729-4c30-9f1b-b1545a7eb022",
   "metadata": {},
   "outputs": [
    {
     "name": "stdout",
     "output_type": "stream",
     "text": [
      "Hello Hi\n",
      "This is the python assignment for file handling, exceptions and logging.Appended line.\n",
      "\n",
      "File does not exist.\n"
     ]
    }
   ],
   "source": [
    "# 13. How would you check if a file exists before attempting to read it in Python?\n",
    "import os\n",
    "\n",
    "if os.path.exists(\"input.txt\"):\n",
    "    with open(\"input.txt\", \"r\") as file:\n",
    "        print(file.read())\n",
    "else:\n",
    "    print(\"File does not exist.\")\n",
    "\n",
    "if os.path.exists(\"input1.txt\"):\n",
    "    with open(\"input1.txt\", \"r\") as file:\n",
    "        print(file.read())\n",
    "else:\n",
    "    print(\"File does not exist.\")"
   ]
  },
  {
   "cell_type": "code",
   "execution_count": 23,
   "id": "c7050085-6484-457c-b076-dbc01146965c",
   "metadata": {},
   "outputs": [],
   "source": [
    "# 14. Write a program that uses the logging module to log both informational and error messages.\n",
    "logging.basicConfig(filename=\"app.log\", level=logging.DEBUG)\n",
    "logging.info(\"Program started.\")\n",
    "try:\n",
    "    result = 10 / 0\n",
    "except ZeroDivisionError:\n",
    "    logging.error(\"Division by zero error.\", exc_info=True)"
   ]
  },
  {
   "cell_type": "code",
   "execution_count": 25,
   "id": "6ea4f439-2f1b-428e-a353-4b8eb0ff92f1",
   "metadata": {},
   "outputs": [
    {
     "name": "stdout",
     "output_type": "stream",
     "text": [
      "Hello Hi\n",
      "This is the python assignment for file handling, exceptions and logging.Appended line.\n",
      "\n",
      "The file is empty.\n"
     ]
    }
   ],
   "source": [
    "# 15. Write a Python program that prints the content of a file and handles the case when the file is empty.\n",
    "with open(\"input.txt\", \"r\") as file:\n",
    "    content = file.read()\n",
    "    if not content:\n",
    "        print(\"The file is empty.\")\n",
    "    else:\n",
    "        print(content)\n",
    "\n",
    "with open(\"FileTry.txt\", \"r\") as file:\n",
    "    content = file.read()\n",
    "    if not content:\n",
    "        print(\"The file is empty.\")\n",
    "    else:\n",
    "        print(content)"
   ]
  },
  {
   "cell_type": "code",
   "execution_count": 28,
   "id": "86a62659-ca48-43df-b80d-40caacc96df4",
   "metadata": {},
   "outputs": [
    {
     "name": "stdout",
     "output_type": "stream",
     "text": [
      "ERROR: Could not find file C:\\Users\\nitis\\AppData\\Local\\Temp\\ipykernel_12784\\1411932313.py\n"
     ]
    },
    {
     "data": {
      "text/plain": [
       "499999500000"
      ]
     },
     "execution_count": 28,
     "metadata": {},
     "output_type": "execute_result"
    }
   ],
   "source": [
    "#%pip install memory_profiler\n",
    "\n",
    "# 16. Demonstrate how to use memory profiling to check the memory usage of a small program.\n",
    "from memory_profiler import profile\n",
    "\n",
    "@profile\n",
    "def memory_intensive_task():\n",
    "    large_list = [i for i in range(1000000)]\n",
    "    return sum(large_list)\n",
    "\n",
    "memory_intensive_task()"
   ]
  },
  {
   "cell_type": "code",
   "execution_count": 30,
   "id": "16b6afb1-4362-49ec-b47c-d7fff7bfdaff",
   "metadata": {},
   "outputs": [
    {
     "name": "stdout",
     "output_type": "stream",
     "text": [
      "1\n",
      "2\n",
      "3\n",
      "4\n",
      "5\n"
     ]
    }
   ],
   "source": [
    "# 17. Write a Python program to create and write a list of numbers to a file, one number per line.\n",
    "numbers = [1, 2, 3, 4, 5]\n",
    "with open(\"numbers.txt\", \"w\") as file:\n",
    "    for number in numbers:\n",
    "        file.write(f\"{number}\\n\")\n",
    "\n",
    "with open(\"numbers.txt\", \"r\") as file:\n",
    "    for line in file:\n",
    "        print(line.strip())"
   ]
  },
  {
   "cell_type": "code",
   "execution_count": 35,
   "id": "0cb4fc2b-d368-4ff0-90bf-a6627b96184d",
   "metadata": {},
   "outputs": [
    {
     "name": "stdout",
     "output_type": "stream",
     "text": [
      "Logging with file rotation.\n"
     ]
    }
   ],
   "source": [
    "# 18. How would you implement a basic logging setup that logs to a file with rotation after 1MB?\n",
    "from logging.handlers import RotatingFileHandler\n",
    "\n",
    "handler = RotatingFileHandler(\"rotating.log\", maxBytes=1_000_000, backupCount=3)\n",
    "logging.basicConfig(handlers=[handler], level=logging.DEBUG)\n",
    "logging.info(\"Logging with file rotation.\")\n",
    "\n",
    "with open(\"rotating.log\", \"r\") as file:\n",
    "    for line in file:\n",
    "        print(line.strip())"
   ]
  },
  {
   "cell_type": "code",
   "execution_count": 36,
   "id": "0eef469a-ddbb-4224-9e24-2c09058f91ff",
   "metadata": {},
   "outputs": [
    {
     "name": "stdout",
     "output_type": "stream",
     "text": [
      "Index out of range.\n"
     ]
    }
   ],
   "source": [
    "# 19. Write a program that handles both IndexError and KeyError using a try-except block.\n",
    "try:\n",
    "    my_list = [1, 2, 3]\n",
    "    print(my_list[5])\n",
    "    my_dict = {\"key\": \"value\"}\n",
    "    print(my_dict[\"missing_key\"])\n",
    "except IndexError:\n",
    "    print(\"Index out of range.\")\n",
    "except KeyError:\n",
    "    print(\"Key not found in the dictionary.\")"
   ]
  },
  {
   "cell_type": "code",
   "execution_count": 37,
   "id": "525eceb7-7d18-423c-85ba-7ea40c145994",
   "metadata": {},
   "outputs": [
    {
     "name": "stdout",
     "output_type": "stream",
     "text": [
      "Hello Hi\n",
      "This is the python assignment for file handling, exceptions and logging.Appended line.\n",
      "\n"
     ]
    }
   ],
   "source": [
    "# 20. How would you open a file and read its contents using a context manager in Python?\n",
    "with open(\"input.txt\", \"r\") as file:\n",
    "    content = file.read()\n",
    "print(content)"
   ]
  },
  {
   "cell_type": "code",
   "execution_count": 40,
   "id": "6f63c63d-9056-4769-9253-ddff6476dd3f",
   "metadata": {},
   "outputs": [
    {
     "name": "stdout",
     "output_type": "stream",
     "text": [
      "The word 'the' occurs 1 times.\n"
     ]
    }
   ],
   "source": [
    "# 21. Write a Python program that reads a file and prints the number of occurrences of a specific word.\n",
    "word_to_count = \"the\"\n",
    "with open(\"input.txt\", \"r\") as file:\n",
    "    content = file.read()\n",
    "print(f\"The word '{word_to_count}' occurs {content.count(word_to_count)} times.\")"
   ]
  },
  {
   "cell_type": "code",
   "execution_count": 41,
   "id": "68fca94a-e676-4d46-b054-4b8d217ed3d8",
   "metadata": {},
   "outputs": [
    {
     "name": "stdout",
     "output_type": "stream",
     "text": [
      "Hello Hi\n",
      "This is the python assignment for file handling, exceptions and logging.Appended line.\n",
      "\n"
     ]
    }
   ],
   "source": [
    "# 22. How can you check if a file is empty before attempting to read its contents?\n",
    "if os.path.exists(\"input.txt\") and os.path.getsize(\"input.txt\") > 0:\n",
    "    with open(\"input.txt\", \"r\") as file:\n",
    "        print(file.read())\n",
    "else:\n",
    "    print(\"The file is empty.\")"
   ]
  },
  {
   "cell_type": "code",
   "execution_count": 48,
   "id": "859be6b9-6deb-477a-9297-6d019dc4202d",
   "metadata": {},
   "outputs": [
    {
     "name": "stdout",
     "output_type": "stream",
     "text": [
      "File handling error occurred.\n"
     ]
    }
   ],
   "source": [
    "# 23. Write a Python program that writes to a log file when an error occurs during file handling.\n",
    "logging.basicConfig(filename=\"file_error.log\", level=logging.ERROR)\n",
    "try:\n",
    "    with open(\"nonexistent.txt\", \"r\") as file:\n",
    "        print(file.read())\n",
    "except FileNotFoundError:\n",
    "    logging.error(\"File handling error occurred.\", exc_info=True)\n",
    "\n",
    "\n",
    "with open(\"file_error.log\", \"r\") as file:\n",
    "    content = file.read()\n",
    "print(content)"
   ]
  }
 ],
 "metadata": {
  "kernelspec": {
   "display_name": "Python 3 (ipykernel)",
   "language": "python",
   "name": "python3"
  },
  "language_info": {
   "codemirror_mode": {
    "name": "ipython",
    "version": 3
   },
   "file_extension": ".py",
   "mimetype": "text/x-python",
   "name": "python",
   "nbconvert_exporter": "python",
   "pygments_lexer": "ipython3",
   "version": "3.10.5"
  }
 },
 "nbformat": 4,
 "nbformat_minor": 5
}
