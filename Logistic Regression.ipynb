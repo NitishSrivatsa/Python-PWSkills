{
 "cells": [
  {
   "cell_type": "code",
   "execution_count": 1,
   "id": "2094a447-167b-41f7-a425-d4d10cffac07",
   "metadata": {},
   "outputs": [
    {
     "name": "stdout",
     "output_type": "stream",
     "text": [
      "Accuracy: 1.0\n"
     ]
    }
   ],
   "source": [
    "# 1. Load dataset, split into training and testing sets, apply Logistic Regression, and print accuracy\n",
    "import pandas as pd\n",
    "from sklearn.model_selection import train_test_split\n",
    "from sklearn.linear_model import LogisticRegression\n",
    "from sklearn.metrics import accuracy_score\n",
    "\n",
    "# Sample dataset (Iris)\n",
    "from sklearn.datasets import load_iris\n",
    "data = load_iris()\n",
    "X, y = data.data, data.target\n",
    "X_train, X_test, y_train, y_test = train_test_split(X, y, test_size=0.2, random_state=42)\n",
    "\n",
    "model = LogisticRegression()\n",
    "model.fit(X_train, y_train)\n",
    "y_pred = model.predict(X_test)\n",
    "print(\"Accuracy:\", accuracy_score(y_test, y_pred))\n"
   ]
  },
  {
   "cell_type": "code",
   "execution_count": 2,
   "id": "c9c06c63-b7a8-4616-903b-454add4808c7",
   "metadata": {},
   "outputs": [
    {
     "name": "stdout",
     "output_type": "stream",
     "text": [
      "L1 Regularization Accuracy: 1.0\n"
     ]
    }
   ],
   "source": [
    "# 2. Apply L1 regularization (Lasso)\n",
    "model = LogisticRegression(penalty='l1', solver='liblinear')\n",
    "model.fit(X_train, y_train)\n",
    "y_pred = model.predict(X_test)\n",
    "print(\"L1 Regularization Accuracy:\", accuracy_score(y_test, y_pred))\n"
   ]
  },
  {
   "cell_type": "code",
   "execution_count": 3,
   "id": "63800ab9-1e72-4b68-9c5e-a2451611455b",
   "metadata": {},
   "outputs": [
    {
     "name": "stdout",
     "output_type": "stream",
     "text": [
      "L2 Regularization Accuracy: 1.0\n",
      "Coefficients: [[-0.39347744  0.96248927 -2.37513361 -0.99874691]\n",
      " [ 0.50844553 -0.2548109  -0.21300984 -0.77574616]\n",
      " [-0.11496809 -0.70767836  2.58814346  1.77449307]]\n"
     ]
    }
   ],
   "source": [
    "# 3. Apply L2 regularization (Ridge)\n",
    "model = LogisticRegression(penalty='l2')\n",
    "model.fit(X_train, y_train)\n",
    "y_pred = model.predict(X_test)\n",
    "print(\"L2 Regularization Accuracy:\", accuracy_score(y_test, y_pred))\n",
    "print(\"Coefficients:\", model.coef_)"
   ]
  },
  {
   "cell_type": "code",
   "execution_count": 4,
   "id": "3c3940b9-a4ec-4691-8cf1-d6ebc91a4a4d",
   "metadata": {},
   "outputs": [
    {
     "name": "stdout",
     "output_type": "stream",
     "text": [
      "Elastic Net Accuracy: 1.0\n"
     ]
    },
    {
     "name": "stderr",
     "output_type": "stream",
     "text": [
      "C:\\Python310\\lib\\site-packages\\sklearn\\linear_model\\_sag.py:348: ConvergenceWarning: The max_iter was reached which means the coef_ did not converge\n",
      "  warnings.warn(\n"
     ]
    }
   ],
   "source": [
    "# 4. Apply Elastic Net regularization\n",
    "model = LogisticRegression(penalty='elasticnet', solver='saga', l1_ratio=0.5)\n",
    "model.fit(X_train, y_train)\n",
    "print(\"Elastic Net Accuracy:\", accuracy_score(y_test, model.predict(X_test)))\n"
   ]
  },
  {
   "cell_type": "code",
   "execution_count": 5,
   "id": "fb47819f-ae91-46fb-b433-c65c70857a43",
   "metadata": {},
   "outputs": [
    {
     "name": "stdout",
     "output_type": "stream",
     "text": [
      "Multiclass OvR Accuracy: 0.9666666666666667\n"
     ]
    },
    {
     "name": "stderr",
     "output_type": "stream",
     "text": [
      "C:\\Python310\\lib\\site-packages\\sklearn\\linear_model\\_logistic.py:1256: FutureWarning: 'multi_class' was deprecated in version 1.5 and will be removed in 1.7. Use OneVsRestClassifier(LogisticRegression(..)) instead. Leave it to its default value to avoid this warning.\n",
      "  warnings.warn(\n"
     ]
    }
   ],
   "source": [
    "# 5. Train Logistic Regression for multiclass classification using OvR\n",
    "model = LogisticRegression(multi_class='ovr')\n",
    "model.fit(X_train, y_train)\n",
    "print(\"Multiclass OvR Accuracy:\", accuracy_score(y_test, model.predict(X_test)))\n"
   ]
  },
  {
   "cell_type": "code",
   "execution_count": 6,
   "id": "e8ac4ab0-d8b1-4f6c-8fbf-8a5c25f742ce",
   "metadata": {},
   "outputs": [
    {
     "name": "stdout",
     "output_type": "stream",
     "text": [
      "Best Parameters: {'C': 10, 'penalty': 'l1', 'solver': 'liblinear'}\n",
      "Best Accuracy: 0.9583333333333334\n"
     ]
    }
   ],
   "source": [
    "# 6. Hyperparameter tuning using GridSearchCV\n",
    "from sklearn.model_selection import GridSearchCV\n",
    "param_grid = {'C': [0.1, 1, 10], 'penalty': ['l1', 'l2'], 'solver': ['liblinear']}\n",
    "grid = GridSearchCV(LogisticRegression(), param_grid, cv=5)\n",
    "grid.fit(X_train, y_train)\n",
    "print(\"Best Parameters:\", grid.best_params_)\n",
    "print(\"Best Accuracy:\", grid.best_score_)\n"
   ]
  },
  {
   "cell_type": "code",
   "execution_count": 7,
   "id": "98bb9590-3957-490f-bf5a-618c5f2effd7",
   "metadata": {},
   "outputs": [
    {
     "name": "stdout",
     "output_type": "stream",
     "text": [
      "Stratified K-Fold Accuracy: 0.9466666666666667\n"
     ]
    },
    {
     "name": "stderr",
     "output_type": "stream",
     "text": [
      "C:\\Python310\\lib\\site-packages\\sklearn\\linear_model\\_logistic.py:1256: FutureWarning: 'multi_class' was deprecated in version 1.5 and will be removed in 1.7. Use OneVsRestClassifier(LogisticRegression(..)) instead. Leave it to its default value to avoid this warning.\n",
      "  warnings.warn(\n",
      "C:\\Python310\\lib\\site-packages\\sklearn\\linear_model\\_logistic.py:1256: FutureWarning: 'multi_class' was deprecated in version 1.5 and will be removed in 1.7. Use OneVsRestClassifier(LogisticRegression(..)) instead. Leave it to its default value to avoid this warning.\n",
      "  warnings.warn(\n",
      "C:\\Python310\\lib\\site-packages\\sklearn\\linear_model\\_logistic.py:1256: FutureWarning: 'multi_class' was deprecated in version 1.5 and will be removed in 1.7. Use OneVsRestClassifier(LogisticRegression(..)) instead. Leave it to its default value to avoid this warning.\n",
      "  warnings.warn(\n",
      "C:\\Python310\\lib\\site-packages\\sklearn\\linear_model\\_logistic.py:1256: FutureWarning: 'multi_class' was deprecated in version 1.5 and will be removed in 1.7. Use OneVsRestClassifier(LogisticRegression(..)) instead. Leave it to its default value to avoid this warning.\n",
      "  warnings.warn(\n",
      "C:\\Python310\\lib\\site-packages\\sklearn\\linear_model\\_logistic.py:1256: FutureWarning: 'multi_class' was deprecated in version 1.5 and will be removed in 1.7. Use OneVsRestClassifier(LogisticRegression(..)) instead. Leave it to its default value to avoid this warning.\n",
      "  warnings.warn(\n"
     ]
    }
   ],
   "source": [
    "# 7. Evaluate using Stratified K-Fold Cross-Validation\n",
    "from sklearn.model_selection import StratifiedKFold, cross_val_score\n",
    "skf = StratifiedKFold(n_splits=5, shuffle=True, random_state=42)\n",
    "score = cross_val_score(model, X, y, cv=skf, scoring='accuracy')\n",
    "print(\"Stratified K-Fold Accuracy:\", score.mean())"
   ]
  },
  {
   "cell_type": "code",
   "execution_count": 10,
   "id": "ff616b5f-1832-4dd0-9112-6dc105047205",
   "metadata": {},
   "outputs": [
    {
     "name": "stdout",
     "output_type": "stream",
     "text": [
      "Model Accuracy: 0.7863\n"
     ]
    }
   ],
   "source": [
    "# 8. Load dataset from CSV and apply Logistic Regression\n",
    "import pandas as pd\n",
    "import numpy as np\n",
    "from sklearn.model_selection import train_test_split\n",
    "from sklearn.preprocessing import StandardScaler, LabelEncoder\n",
    "from sklearn.linear_model import LogisticRegression\n",
    "from sklearn.metrics import accuracy_score\n",
    "\n",
    "# Load dataset\n",
    "file_path = \"Car Sale.csv\"\n",
    "df = pd.read_csv(file_path)\n",
    "\n",
    "# Encode Gender (Target Variable)\n",
    "le = LabelEncoder()\n",
    "df['Gender'] = le.fit_transform(df['Gender'])  # Male = 0, Female = 1\n",
    "\n",
    "# Selecting relevant features (dropping non-informative columns like 'Phone')\n",
    "features = ['Annual Income', 'Price ($)']  # Add more relevant features if needed\n",
    "X = df[features]\n",
    "y = df['Gender']\n",
    "\n",
    "# Splitting data\n",
    "X_train, X_test, y_train, y_test = train_test_split(X, y, test_size=0.2, random_state=42, stratify=y)\n",
    "\n",
    "# Standardizing numerical features\n",
    "scaler = StandardScaler()\n",
    "X_train = scaler.fit_transform(X_train)\n",
    "X_test = scaler.transform(X_test)\n",
    "\n",
    "# Train Logistic Regression model\n",
    "model = LogisticRegression()\n",
    "model.fit(X_train, y_train)\n",
    "\n",
    "# Predictions and accuracy\n",
    "y_pred = model.predict(X_test)\n",
    "accuracy = accuracy_score(y_test, y_pred)\n",
    "\n",
    "print(f\"Model Accuracy: {accuracy:.4f}\")\n"
   ]
  },
  {
   "cell_type": "code",
   "execution_count": 11,
   "id": "a2e3830c-917b-4748-ba0d-144e21b567b8",
   "metadata": {},
   "outputs": [
    {
     "name": "stdout",
     "output_type": "stream",
     "text": [
      "Best Randomized Search Parameters: {'solver': 'liblinear', 'penalty': 'l2', 'C': 10}\n"
     ]
    }
   ],
   "source": [
    "# 9. Apply RandomizedSearchCV for tuning\n",
    "from sklearn.model_selection import RandomizedSearchCV\n",
    "param_dist = {'C': [0.1, 1, 10], 'penalty': ['l1', 'l2'], 'solver': ['liblinear', 'saga']}\n",
    "random_search = RandomizedSearchCV(LogisticRegression(), param_dist, cv=5, n_iter=5, random_state=42)\n",
    "random_search.fit(X_train, y_train)\n",
    "print(\"Best Randomized Search Parameters:\", random_search.best_params_)\n"
   ]
  },
  {
   "cell_type": "code",
   "execution_count": 12,
   "id": "c0742022-0c5b-433b-a946-623ad3bdd15e",
   "metadata": {},
   "outputs": [
    {
     "name": "stdout",
     "output_type": "stream",
     "text": [
      "One-vs-One Accuracy: 0.7862818904224174\n"
     ]
    }
   ],
   "source": [
    "# 10. One-vs-One (OvO) Multiclass Logistic Regression\n",
    "from sklearn.multiclass import OneVsOneClassifier\n",
    "ovo_model = OneVsOneClassifier(LogisticRegression())\n",
    "ovo_model.fit(X_train, y_train)\n",
    "print(\"One-vs-One Accuracy:\", accuracy_score(y_test, ovo_model.predict(X_test)))\n"
   ]
  },
  {
   "cell_type": "code",
   "execution_count": 13,
   "id": "6e4572ef-4334-4222-824f-5b9e36e3af27",
   "metadata": {},
   "outputs": [
    {
     "data": {
      "image/png": "[encoded data removed]",
      "text/plain": [
       "<Figure size 432x288 with 2 Axes>"
      ]
     },
     "metadata": {
      "needs_background": "light"
     },
     "output_type": "display_data"
    }
   ],
   "source": [
    "# 11. Confusion matrix visualization\n",
    "import seaborn as sns\n",
    "import matplotlib.pyplot as plt\n",
    "from sklearn.metrics import confusion_matrix\n",
    "y_pred = model.predict(X_test)\n",
    "cm = confusion_matrix(y_test, y_pred)\n",
    "sns.heatmap(cm, annot=True, fmt='d')\n",
    "plt.xlabel('Predicted')\n",
    "plt.ylabel('Actual')\n",
    "plt.show()\n"
   ]
  },
  {
   "cell_type": "code",
   "execution_count": 14,
   "id": "06f6284b-359c-46e5-a2e0-0fb74d825a65",
   "metadata": {},
   "outputs": [
    {
     "name": "stdout",
     "output_type": "stream",
     "text": [
      "Classification Report:\n",
      "               precision    recall  f1-score   support\n",
      "\n",
      "           0       0.00      0.00      0.00      1022\n",
      "           1       0.79      1.00      0.88      3760\n",
      "\n",
      "    accuracy                           0.79      4782\n",
      "   macro avg       0.39      0.50      0.44      4782\n",
      "weighted avg       0.62      0.79      0.69      4782\n",
      "\n"
     ]
    },
    {
     "name": "stderr",
     "output_type": "stream",
     "text": [
      "C:\\Python310\\lib\\site-packages\\sklearn\\metrics\\_classification.py:1565: UndefinedMetricWarning: Precision is ill-defined and being set to 0.0 in labels with no predicted samples. Use `zero_division` parameter to control this behavior.\n",
      "  _warn_prf(average, modifier, f\"{metric.capitalize()} is\", len(result))\n",
      "C:\\Python310\\lib\\site-packages\\sklearn\\metrics\\_classification.py:1565: UndefinedMetricWarning: Precision is ill-defined and being set to 0.0 in labels with no predicted samples. Use `zero_division` parameter to control this behavior.\n",
      "  _warn_prf(average, modifier, f\"{metric.capitalize()} is\", len(result))\n",
      "C:\\Python310\\lib\\site-packages\\sklearn\\metrics\\_classification.py:1565: UndefinedMetricWarning: Precision is ill-defined and being set to 0.0 in labels with no predicted samples. Use `zero_division` parameter to control this behavior.\n",
      "  _warn_prf(average, modifier, f\"{metric.capitalize()} is\", len(result))\n"
     ]
    }
   ],
   "source": [
    "# 12. Precision, Recall, and F1-score evaluation\n",
    "from sklearn.metrics import classification_report\n",
    "print(\"Classification Report:\\n\", classification_report(y_test, y_pred))\n"
   ]
  },
  {
   "cell_type": "code",
   "execution_count": 15,
   "id": "32949ca7-cef1-47b9-bc38-80108b03e477",
   "metadata": {},
   "outputs": [
    {
     "name": "stdout",
     "output_type": "stream",
     "text": [
      "Imbalanced Data Accuracy: 0.5023002927645337\n"
     ]
    }
   ],
   "source": [
    "# 13. Handling imbalanced data with class weights\n",
    "model = LogisticRegression(class_weight='balanced')\n",
    "model.fit(X_train, y_train)\n",
    "print(\"Imbalanced Data Accuracy:\", accuracy_score(y_test, model.predict(X_test)))\n"
   ]
  },
  {
   "cell_type": "code",
   "execution_count": 19,
   "id": "a195f0bc-f36e-4f81-8f19-ebbed017c4eb",
   "metadata": {},
   "outputs": [
    {
     "name": "stdout",
     "output_type": "stream",
     "text": [
      "Titanic Dataset Logistic Regression Accuracy: 0.8044692737430168\n",
      "Classification Report:\n",
      "               precision    recall  f1-score   support\n",
      "\n",
      "           0       0.82      0.85      0.84       105\n",
      "           1       0.77      0.74      0.76        74\n",
      "\n",
      "    accuracy                           0.80       179\n",
      "   macro avg       0.80      0.80      0.80       179\n",
      "weighted avg       0.80      0.80      0.80       179\n",
      "\n"
     ]
    }
   ],
   "source": [
    "# 14. Train Logistic Regression on Titanic dataset\n",
    "\n",
    "import pandas as pd\n",
    "from sklearn.model_selection import train_test_split\n",
    "from sklearn.linear_model import LogisticRegression\n",
    "from sklearn.metrics import accuracy_score, classification_report\n",
    "from sklearn.preprocessing import StandardScaler\n",
    "\n",
    "# Load Titanic dataset\n",
    "df = pd.read_csv('titanic.csv')\n",
    "\n",
    "# Drop unnecessary columns\n",
    "df.drop(columns=['Name', 'Ticket', 'Cabin'], inplace=True, errors='ignore')\n",
    "\n",
    "# Handle missing values\n",
    "df.fillna(df.median(numeric_only=True), inplace=True)\n",
    "\n",
    "# Convert categorical variables\n",
    "df = pd.get_dummies(df, drop_first=True)  # One-hot encoding for categorical variables\n",
    "\n",
    "# Split features and target variable\n",
    "X = df.drop(columns=['Survived'])  # Ensure 'Survived' is the target variable\n",
    "y = df['Survived']\n",
    "\n",
    "# Standardize numerical features\n",
    "scaler = StandardScaler()\n",
    "X_scaled = scaler.fit_transform(X)\n",
    "\n",
    "# Split into training and testing sets\n",
    "X_train, X_test, y_train, y_test = train_test_split(X_scaled, y, test_size=0.2, random_state=42)\n",
    "\n",
    "# Train Logistic Regression model\n",
    "model = LogisticRegression(max_iter=500)\n",
    "model.fit(X_train, y_train)\n",
    "\n",
    "# Predictions\n",
    "y_pred = model.predict(X_test)\n",
    "\n",
    "# Evaluate performance\n",
    "accuracy = accuracy_score(y_test, y_pred)\n",
    "print(\"Titanic Dataset Logistic Regression Accuracy:\", accuracy)\n",
    "print(\"Classification Report:\\n\", classification_report(y_test, y_pred))\n"
   ]
  },
  {
   "cell_type": "code",
   "execution_count": 20,
   "id": "9258e1e8-dd76-41f3-9db8-0612d44acb01",
   "metadata": {},
   "outputs": [
    {
     "name": "stdout",
     "output_type": "stream",
     "text": [
      "Accuracy with Scaling: 0.8044692737430168\n"
     ]
    }
   ],
   "source": [
    "# 15. Feature scaling before training\n",
    "from sklearn.preprocessing import StandardScaler\n",
    "scaler = StandardScaler()\n",
    "X_train_scaled = scaler.fit_transform(X_train)\n",
    "X_test_scaled = scaler.transform(X_test)\n",
    "model.fit(X_train_scaled, y_train)\n",
    "print(\"Accuracy with Scaling:\", accuracy_score(y_test, model.predict(X_test_scaled)))\n"
   ]
  },
  {
   "cell_type": "code",
   "execution_count": 21,
   "id": "60d9372a-4108-4c31-92ea-e20f3d37b0fc",
   "metadata": {},
   "outputs": [
    {
     "name": "stdout",
     "output_type": "stream",
     "text": [
      "ROC-AUC Score: 0.8761904761904762\n"
     ]
    }
   ],
   "source": [
    "# 16. Evaluate using ROC-AUC score\n",
    "from sklearn.metrics import roc_auc_score\n",
    "y_prob = model.predict_proba(X_test)[:, 1]\n",
    "print(\"ROC-AUC Score:\", roc_auc_score(y_test, y_prob))\n"
   ]
  },
  {
   "cell_type": "code",
   "execution_count": 22,
   "id": "aca214ed-c055-4c89-9763-1fd56a9d16b9",
   "metadata": {},
   "outputs": [
    {
     "name": "stdout",
     "output_type": "stream",
     "text": [
      "Accuracy with C=0.5: 0.8044692737430168\n"
     ]
    }
   ],
   "source": [
    "# 17. Train with custom learning rate (C=0.5)\n",
    "model = LogisticRegression(C=0.5)\n",
    "model.fit(X_train, y_train)\n",
    "print(\"Accuracy with C=0.5:\", accuracy_score(y_test, model.predict(X_test)))"
   ]
  },
  {
   "cell_type": "code",
   "execution_count": 23,
   "id": "ecb4d372-aee4-4d80-b19a-0b51ce3461ff",
   "metadata": {},
   "outputs": [
    {
     "name": "stdout",
     "output_type": "stream",
     "text": [
      "Feature Importance: [0.09227397 0.77556808 0.38720734 0.31169845 0.10217278 0.12494707\n",
      " 1.27429771 0.04732996 0.19720827]\n"
     ]
    }
   ],
   "source": [
    "# 18. Identify important features based on coefficients\n",
    "import numpy as np\n",
    "feature_importance = np.abs(model.coef_).sum(axis=0)\n",
    "print(\"Feature Importance:\", feature_importance)\n"
   ]
  },
  {
   "cell_type": "code",
   "execution_count": 24,
   "id": "fb8c532a-b154-406c-b95b-a7a39bd1102f",
   "metadata": {},
   "outputs": [
    {
     "name": "stdout",
     "output_type": "stream",
     "text": [
      "Cohen’s Kappa Score: 0.5944196284068104\n"
     ]
    }
   ],
   "source": [
    "# 19. Evaluate using Cohen’s Kappa Score\n",
    "from sklearn.metrics import cohen_kappa_score\n",
    "print(\"Cohen’s Kappa Score:\", cohen_kappa_score(y_test, y_pred))\n"
   ]
  },
  {
   "cell_type": "code",
   "execution_count": 25,
   "id": "695b70ef-d474-4a9f-84e8-284638d9e74e",
   "metadata": {},
   "outputs": [
    {
     "data": {
      "image/png": "[encoded data removed]",
      "text/plain": [
       "<Figure size 432x288 with 1 Axes>"
      ]
     },
     "metadata": {
      "needs_background": "light"
     },
     "output_type": "display_data"
    }
   ],
   "source": [
    "# 20. Visualize Precision-Recall Curve\n",
    "from sklearn.metrics import precision_recall_curve\n",
    "precision, recall, _ = precision_recall_curve(y_test, y_prob)\n",
    "plt.plot(recall, precision)\n",
    "plt.xlabel(\"Recall\")\n",
    "plt.ylabel(\"Precision\")\n",
    "plt.title(\"Precision-Recall Curve\")\n",
    "plt.show()\n"
   ]
  },
  {
   "cell_type": "code",
   "execution_count": 26,
   "id": "2a865f38-3c65-4c73-ae62-a09fe509247a",
   "metadata": {},
   "outputs": [
    {
     "name": "stdout",
     "output_type": "stream",
     "text": [
      "Accuracy with liblinear solver: 0.8044692737430168\n",
      "Accuracy with saga solver: 0.8044692737430168\n",
      "Accuracy with lbfgs solver: 0.8044692737430168\n"
     ]
    }
   ],
   "source": [
    "# 21. Train with different solvers and compare accuracy\n",
    "for solver in ['liblinear', 'saga', 'lbfgs']:\n",
    "    model = LogisticRegression(solver=solver)\n",
    "    model.fit(X_train, y_train)\n",
    "    print(f\"Accuracy with {solver} solver:\", accuracy_score(y_test, model.predict(X_test)))\n"
   ]
  },
  {
   "cell_type": "code",
   "execution_count": 27,
   "id": "c47990ae-215b-4451-9145-40ffd4b31a00",
   "metadata": {},
   "outputs": [
    {
     "name": "stdout",
     "output_type": "stream",
     "text": [
      "MCC Score: 0.5947791436333295\n"
     ]
    }
   ],
   "source": [
    "# 22. Evaluate using Matthews Correlation Coefficient (MCC)\n",
    "from sklearn.metrics import matthews_corrcoef\n",
    "print(\"MCC Score:\", matthews_corrcoef(y_test, y_pred))\n"
   ]
  },
  {
   "cell_type": "code",
   "execution_count": 28,
   "id": "5699e2bb-76ef-4622-9e9d-5240d9c8ca1f",
   "metadata": {},
   "outputs": [
    {
     "name": "stdout",
     "output_type": "stream",
     "text": [
      "Raw Data Accuracy: 0.8044692737430168\n"
     ]
    }
   ],
   "source": [
    "# 23. Compare raw vs standardized data accuracy\n",
    "model.fit(X_train, y_train)\n",
    "print(\"Raw Data Accuracy:\", accuracy_score(y_test, model.predict(X_test)))\n"
   ]
  },
  {
   "cell_type": "code",
   "execution_count": 29,
   "id": "4a4afe37-7d68-4dcb-9f0a-40c500c2e7cb",
   "metadata": {},
   "outputs": [
    {
     "name": "stdout",
     "output_type": "stream",
     "text": [
      "Accuracy for C=0.01: 0.7963163596966414\n",
      "Accuracy for C=0.1: 0.7976952624839948\n",
      "Accuracy for C=1: 0.7934699103713188\n",
      "Accuracy for C=10: 0.790662858268492\n"
     ]
    }
   ],
   "source": [
    "# 24. Find optimal C using cross-validation\n",
    "from sklearn.model_selection import cross_val_score\n",
    "for c in [0.01, 0.1, 1, 10]:\n",
    "    model = LogisticRegression(C=c)\n",
    "    score = cross_val_score(model, X_train, y_train, cv=5)\n",
    "    print(f\"Accuracy for C={c}:\", score.mean())\n"
   ]
  },
  {
   "cell_type": "code",
   "execution_count": 31,
   "id": "6163ecee-60b7-4821-a07a-293c40eabc5b",
   "metadata": {},
   "outputs": [
    {
     "name": "stdout",
     "output_type": "stream",
     "text": [
      "Loaded Model Accuracy: 0.8044692737430168\n"
     ]
    }
   ],
   "source": [
    "# 25. Save and load model using joblib\n",
    "import joblib\n",
    "model.fit(X_train, y_train)\n",
    "joblib.dump(model, 'logistic_model.pkl')\n",
    "loaded_model = joblib.load('logistic_model.pkl')\n",
    "print(\"Loaded Model Accuracy:\", accuracy_score(y_test, loaded_model.predict(X_test)))"
   ]
  },
  {
   "cell_type": "code",
   "execution_count": null,
   "id": "c29eb948-81e8-4073-9e5e-ef8a8a0414ac",
   "metadata": {},
   "outputs": [],
   "source": []
  }
 ],
 "metadata": {
  "kernelspec": {
   "display_name": "Python 3 (ipykernel)",
   "language": "python",
   "name": "python3"
  },
  "language_info": {
   "codemirror_mode": {
    "name": "ipython",
    "version": 3
   },
   "file_extension": ".py",
   "mimetype": "text/x-python",
   "name": "python",
   "nbconvert_exporter": "python",
   "pygments_lexer": "ipython3",
   "version": "3.10.5"
  }
 },
 "nbformat": 4,
 "nbformat_minor": 5
}
