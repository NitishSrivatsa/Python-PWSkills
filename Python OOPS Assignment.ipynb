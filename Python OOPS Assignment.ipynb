{
 "cells": [
  {
   "cell_type": "code",
   "execution_count": 21,
   "id": "d623374b-d303-4eeb-b2d7-3ee5fd7528e8",
   "metadata": {},
   "outputs": [],
   "source": [
    "# 1. Create a parent class Animal with a method speak() that prints a generic message.\n",
    "# Create a child class Dog that overrides the speak() method to print \"Bark!\".\n",
    "\n",
    "class Animal:\n",
    "    def speak(self):\n",
    "        print(\"Animal makes a sound\")\n",
    "\n",
    "class Dog(Animal):\n",
    "    def speak(self):\n",
    "        print(\"Bark!\")"
   ]
  },
  {
   "cell_type": "code",
   "execution_count": 22,
   "id": "6562c478-dbfb-4323-80d8-f70d6f39bd55",
   "metadata": {},
   "outputs": [],
   "source": [
    "# 2. Write a program to create an abstract class Shape with a method area().\n",
    "# Derive classes Circle and Rectangle from it and implement the area() method in both.\n",
    "\n",
    "from abc import ABC, abstractmethod\n",
    "\n",
    "class Shape(ABC):\n",
    "    @abstractmethod\n",
    "    def area(self):\n",
    "        pass\n",
    "\n",
    "class Circle(Shape):\n",
    "    def __init__(self, radius):\n",
    "        self.radius = radius\n",
    "\n",
    "    def area(self):\n",
    "        return 3.14 * self.radius * self.radius\n",
    "\n",
    "class Rectangle(Shape):\n",
    "    def __init__(self, width, height):\n",
    "        self.width = width\n",
    "        self.height = height\n",
    "\n",
    "    def area(self):\n",
    "        return self.width * self.height"
   ]
  },
  {
   "cell_type": "code",
   "execution_count": 23,
   "id": "4c473e6b-19e1-49d2-bf33-b8ad2b18e71a",
   "metadata": {},
   "outputs": [],
   "source": [
    "# 3. Implement a multi-level inheritance scenario where a class Vehicle has an attribute type.\n",
    "# Derive a class Car and further derive a class ElectricCar that adds a battery attribute.\n",
    "\n",
    "class Vehicle:\n",
    "    def __init__(self, type):\n",
    "        self.type = type\n",
    "\n",
    "class Car(Vehicle):\n",
    "    def __init__(self, type, brand):\n",
    "        super().__init__(type)\n",
    "        self.brand = brand\n",
    "\n",
    "class ElectricCar(Car):\n",
    "    def __init__(self, type, brand, battery_capacity):\n",
    "        super().__init__(type, brand)\n",
    "        self.battery_capacity = battery_capacity"
   ]
  },
  {
   "cell_type": "code",
   "execution_count": 24,
   "id": "03e7cafd-2e77-4ffa-94cf-38910e656562",
   "metadata": {},
   "outputs": [],
   "source": [
    "# 4. Implement a multi-level inheritance scenario where a class Vehicle has an attribute type.\n",
    "# Derive a class Car and further derive a class ElectricCar that adds a battery attribute.\n",
    "\n",
    "class Vehicle:\n",
    "    def __init__(self, type):\n",
    "        self.type = type\n",
    "\n",
    "class Car(Vehicle):\n",
    "    def __init__(self, type, brand):\n",
    "        super().__init__(type)\n",
    "        self.brand = brand\n",
    "\n",
    "class ElectricCar(Car):\n",
    "    def __init__(self, type, brand, battery_capacity):\n",
    "        super().__init__(type, brand)\n",
    "        self.battery_capacity = battery_capacity"
   ]
  },
  {
   "cell_type": "code",
   "execution_count": 25,
   "id": "6092e387-4483-4005-913e-30e592bef58a",
   "metadata": {},
   "outputs": [],
   "source": [
    "# 5. Write a program to demonstrate encapsulation by creating a class BankAccount with private attributes\n",
    "# balance and methods to deposit, withdraw, and check balance.\n",
    "\n",
    "class BankAccount:\n",
    "    def __init__(self, balance=0):\n",
    "        self.__balance = balance\n",
    "\n",
    "    def deposit(self, amount):\n",
    "        self.__balance += amount\n",
    "\n",
    "    def withdraw(self, amount):\n",
    "        if amount <= self.__balance:\n",
    "            self.__balance -= amount\n",
    "        else:\n",
    "            print(\"Insufficient funds\")\n",
    "\n",
    "    def check_balance(self):\n",
    "        return self.__balance"
   ]
  },
  {
   "cell_type": "code",
   "execution_count": 26,
   "id": "655967af-9c1d-44ae-8373-671dc08700b7",
   "metadata": {},
   "outputs": [],
   "source": [
    "# 6. Demonstrate runtime polymorphism using a method play() in a base class Instrument.\n",
    "# Derive classes Guitar and Piano that implement their own version of play().\n",
    "\n",
    "class Instrument:\n",
    "    def play(self):\n",
    "        pass\n",
    "\n",
    "class Guitar(Instrument):\n",
    "    def play(self):\n",
    "        print(\"Playing guitar\")\n",
    "\n",
    "class Piano(Instrument):\n",
    "    def play(self):\n",
    "        print(\"Playing piano\")"
   ]
  },
  {
   "cell_type": "code",
   "execution_count": 27,
   "id": "c5a77acc-23a7-462d-93d2-dd54234652b4",
   "metadata": {},
   "outputs": [],
   "source": [
    "# 7. Create a class MathOperations with a class method add_numbers() to add two numbers\n",
    "# and a static method subtract_numbers() to subtract two numbers.\n",
    "\n",
    "class MathOperations:\n",
    "    @classmethod\n",
    "    def add_numbers(cls, a, b):\n",
    "        return a + b\n",
    "\n",
    "    @staticmethod\n",
    "    def subtract_numbers(a, b):\n",
    "        return a - b"
   ]
  },
  {
   "cell_type": "code",
   "execution_count": 28,
   "id": "c0590d91-d4f5-4953-818f-cf216d83264e",
   "metadata": {},
   "outputs": [],
   "source": [
    "# 8. Implement a class Person with a class method to count the total number of persons created.\n",
    "\n",
    "class Person:\n",
    "    total_persons = 0\n",
    "\n",
    "    def __init__(self, name):\n",
    "        self.name = name\n",
    "        Person.total_persons += 1\n",
    "\n",
    "    @classmethod\n",
    "    def total_persons_created(cls):\n",
    "        return cls.total_persons"
   ]
  },
  {
   "cell_type": "code",
   "execution_count": 29,
   "id": "c0d8cdea-463d-4fbe-8658-1c297581b68c",
   "metadata": {},
   "outputs": [],
   "source": [
    "# 9. Write a class Fraction with attributes numerator and denominator.\n",
    "# Override the str method to display the fraction as \"numerator/denominator\".\n",
    "\n",
    "class Fraction:\n",
    "    def __init__(self, numerator, denominator):\n",
    "        self.numerator = numerator\n",
    "        self.denominator = denominator\n",
    "\n",
    "    def __str__(self):\n",
    "        return f\"{self.numerator}/{self.denominator}\""
   ]
  },
  {
   "cell_type": "code",
   "execution_count": 30,
   "id": "14ddcb74-2fab-468f-bebb-d95450d85db7",
   "metadata": {},
   "outputs": [],
   "source": [
    "# 10. Demonstrate operator overloading by creating a class Vector and overriding the add method to add two vectors.\n",
    "\n",
    "class Vector:\n",
    "    def __init__(self, x, y):\n",
    "        self.x = x\n",
    "        self.y = y\n",
    "\n",
    "    def __add__(self, other):\n",
    "        return Vector(self.x + other.x, self.y + other.y)"
   ]
  },
  {
   "cell_type": "code",
   "execution_count": 31,
   "id": "bf1f3613-fc67-4f8e-a7be-de8eb38abb3c",
   "metadata": {},
   "outputs": [],
   "source": [
    "# 11. Create a class Person with attributes name and age.\n",
    "# Add a method greet() that prints \"Hello, my name is {name} and I am {age} years old.\"\n",
    "\n",
    "class Person:\n",
    "    def __init__(self, name, age):\n",
    "        self.name = name\n",
    "        self.age = age\n",
    "\n",
    "    def greet(self):\n",
    "        print(f\"Hello, my name is {self.name} and I am {self.age} years old.\")"
   ]
  },
  {
   "cell_type": "code",
   "execution_count": 32,
   "id": "690ddf66-15ef-4504-b354-844b13d4015d",
   "metadata": {},
   "outputs": [],
   "source": [
    "# 12. Implement a class Student with attributes name and grades.\n",
    "# Create a method average_grade() to compute the average of the grades.\n",
    "\n",
    "class Student:\n",
    "    def __init__(self, name, grades):\n",
    "        self.name = name\n",
    "        self.grades = grades\n",
    "\n",
    "    def average_grade(self):\n",
    "        return sum(self.grades) / len(self.grades)"
   ]
  },
  {
   "cell_type": "code",
   "execution_count": 33,
   "id": "87b21b77-4ec6-4807-9516-0e69e82bbd19",
   "metadata": {},
   "outputs": [],
   "source": [
    "# 13. Create a class Rectangle with methods set_dimensions() to set the dimensions and area() to calculate the area.\n",
    "\n",
    "class Rectangle:\n",
    "    def __init__(self):\n",
    "        self.width = 0\n",
    "        self.height = 0\n",
    "\n",
    "    def set_dimensions(self, width, height):\n",
    "        self.width = width\n",
    "        self.height = height\n",
    "\n",
    "    def area(self):\n",
    "        return self.width * self.height"
   ]
  },
  {
   "cell_type": "code",
   "execution_count": 34,
   "id": "1f851569-fa5b-477f-8594-80f640c2d8dd",
   "metadata": {},
   "outputs": [],
   "source": [
    "# 14. Create a class Employee with a method calculate_salary() that computes the salary based on hours worked\n",
    "# and hourly rate. Create a derived class Manager that adds a bonus to the salary.\n",
    "\n",
    "class Employee:\n",
    "    def __init__(self, hours_worked, hourly_rate):\n",
    "        self.hours_worked = hours_worked\n",
    "        self.hourly_rate = hourly_rate\n",
    "\n",
    "    def calculate_salary(self):\n",
    "        return self.hours_worked * self.hourly_rate\n",
    "\n",
    "class Manager(Employee):\n",
    "    def __init__(self, hours_worked, hourly_rate, bonus):\n",
    "        super().__init__(hours_worked, hourly_rate)\n",
    "        self.bonus = bonus\n",
    "\n",
    "    def calculate_salary(self):\n",
    "        return super().calculate_salary() + self.bonus"
   ]
  },
  {
   "cell_type": "code",
   "execution_count": 35,
   "id": "42702ee7-3bcf-4021-a26a-b35661ff3cda",
   "metadata": {},
   "outputs": [],
   "source": [
    "# 15. Create a class Product with attributes name, price, and quantity.\n",
    "# Implement a method total_price() that calculates the total price of the product.\n",
    "\n",
    "class Product:\n",
    "    def __init__(self, name, price, quantity):\n",
    "        self.name = name\n",
    "        self.price = price\n",
    "        self.quantity = quantity\n",
    "\n",
    "    def total_price(self):\n",
    "        return self.price * self.quantity"
   ]
  },
  {
   "cell_type": "code",
   "execution_count": 36,
   "id": "d2cc3672-97df-42b9-836b-784a4b17fe91",
   "metadata": {},
   "outputs": [],
   "source": [
    "# 16. Create a class Animal with an abstract method sound().\n",
    "# Create two derived classes Cow and Sheep that implement the sound() method.\n",
    "\n",
    "from abc import ABC, abstractmethod\n",
    "\n",
    "class Animal(ABC):\n",
    "    @abstractmethod\n",
    "    def sound(self):\n",
    "        pass\n",
    "\n",
    "class Cow(Animal):\n",
    "    def sound(self):\n",
    "        print(\"Moo\")\n",
    "\n",
    "class Sheep(Animal):\n",
    "    def sound(self):\n",
    "        print(\"Baa\")"
   ]
  },
  {
   "cell_type": "code",
   "execution_count": 37,
   "id": "3e1b0e6a-4393-4fe1-8ccc-157c39edce00",
   "metadata": {},
   "outputs": [],
   "source": [
    "# 17. Create a class Book with attributes title, author, and year_published.\n",
    "# Add a method get_book_info() that returns a formatted string with the book's details.\n",
    "\n",
    "class Book:\n",
    "    def __init__(self, title, author, year_published):\n",
    "        self.title = title\n",
    "        self.author = author\n",
    "        self.year_published = year_published\n",
    "\n",
    "    def get_book_info(self):\n",
    "        return f\"Title: {self.title}, Author: {self.author}, Year Published: {self.year_published}\""
   ]
  },
  {
   "cell_type": "code",
   "execution_count": 38,
   "id": "cd985d5b-6592-4789-85de-cffbb7f50585",
   "metadata": {},
   "outputs": [],
   "source": [
    "# 18. Create a class House with attributes address and price.\n",
    "# Create a derived class Mansion that adds an attribute number_of_rooms.\n",
    "\n",
    "class House:\n",
    "    def __init__(self, address, price):\n",
    "        self.address = address\n",
    "        self.price = price\n",
    "\n",
    "class Mansion(House):\n",
    "    def __init__(self, address, price, number_of_rooms):\n",
    "        super().__init__(address, price)\n",
    "        self.number_of_rooms = number_of_rooms"
   ]
  },
  {
   "cell_type": "code",
   "execution_count": null,
   "id": "4a19b1be-6d69-4527-bfaa-b23e5f3b9ff3",
   "metadata": {},
   "outputs": [],
   "source": []
  }
 ],
 "metadata": {
  "kernelspec": {
   "display_name": "Python 3 (ipykernel)",
   "language": "python",
   "name": "python3"
  },
  "language_info": {
   "codemirror_mode": {
    "name": "ipython",
    "version": 3
   },
   "file_extension": ".py",
   "mimetype": "text/x-python",
   "name": "python",
   "nbconvert_exporter": "python",
   "pygments_lexer": "ipython3",
   "version": "3.10.5"
  }
 },
 "nbformat": 4,
 "nbformat_minor": 5
}
