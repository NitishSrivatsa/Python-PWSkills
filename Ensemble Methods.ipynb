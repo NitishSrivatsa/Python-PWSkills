{
 "cells": [
  {
   "cell_type": "code",
   "execution_count": 2,
   "id": "97092927-886b-4db1-a319-29ddba58531c",
   "metadata": {},
   "outputs": [
    {
     "name": "stdout",
     "output_type": "stream",
     "text": [
      "1. Bagging Classifier Accuracy: 0.9473684210526315\n"
     ]
    }
   ],
   "source": [
    "# 1. Train a Bagging Classifier using Decision Trees on a sample dataset and print model accuracy.\n",
    "from sklearn.datasets import load_breast_cancer, make_regression\n",
    "from sklearn.model_selection import train_test_split\n",
    "from sklearn.ensemble import BaggingClassifier, BaggingRegressor, RandomForestClassifier, RandomForestRegressor\n",
    "from sklearn.tree import DecisionTreeClassifier, DecisionTreeRegressor\n",
    "from sklearn.svm import SVC\n",
    "from sklearn.linear_model import LogisticRegression\n",
    "from sklearn.metrics import accuracy_score, mean_squared_error, roc_auc_score\n",
    "from sklearn.preprocessing import StandardScaler\n",
    "import numpy as np\n",
    "import warnings\n",
    "warnings.filterwarnings(\"ignore\")\n",
    "\n",
    "# Load datasets\n",
    "X_class, y_class = load_breast_cancer(return_X_y=True)\n",
    "X_reg, y_reg = make_regression(n_samples=500, n_features=10, noise=0.3, random_state=42)\n",
    "\n",
    "# Split datasets\n",
    "Xc_train, Xc_test, yc_train, yc_test = train_test_split(X_class, y_class, test_size=0.3, random_state=42)\n",
    "Xr_train, Xr_test, yr_train, yr_test = train_test_split(X_reg, y_reg, test_size=0.3, random_state=42)\n",
    "\n",
    "# 1. Bagging Classifier with Decision Trees\n",
    "bc = BaggingClassifier(estimator=DecisionTreeClassifier(), random_state=42)\n",
    "bc.fit(Xc_train, yc_train)\n",
    "print(\"1. Bagging Classifier Accuracy:\", accuracy_score(yc_test, bc.predict(Xc_test)))\n"
   ]
  },
  {
   "cell_type": "code",
   "execution_count": 4,
   "id": "8f33459b-11ec-4e4f-948b-12f90d89c458",
   "metadata": {},
   "outputs": [
    {
     "name": "stdout",
     "output_type": "stream",
     "text": [
      "2. Bagging Regressor MSE: 6243.756669557429\n"
     ]
    }
   ],
   "source": [
    "# 2. Train a Bagging Regressor using Decision Trees and evaluate using Mean Squared Error (MSE).\n",
    "br = BaggingRegressor(estimator=DecisionTreeRegressor(), random_state=42)\n",
    "br.fit(Xr_train, yr_train)\n",
    "print(\"2. Bagging Regressor MSE:\", mean_squared_error(yr_test, br.predict(Xr_test)))\n"
   ]
  },
  {
   "cell_type": "code",
   "execution_count": 5,
   "id": "3248657d-2ac2-4e9a-8034-e4603e3370ab",
   "metadata": {},
   "outputs": [
    {
     "name": "stdout",
     "output_type": "stream",
     "text": [
      "3. Random Forest Feature Importances: [0.03231189 0.0110639  0.06009233 0.05381045 0.00622336 0.00921566\n",
      " 0.08055702 0.14193444 0.00327807 0.00314028 0.01643496 0.00317191\n",
      " 0.01176976 0.02953842 0.00588079 0.00459638 0.0058159  0.00338232\n",
      " 0.00400077 0.00713457 0.07797475 0.01878567 0.07429212 0.11821686\n",
      " 0.01176917 0.01753909 0.04107958 0.12713638 0.01292945 0.00692376]\n"
     ]
    }
   ],
   "source": [
    "# 3. Train a Random Forest Classifier on the Breast Cancer dataset and print feature importance scores.\n",
    "rfc = RandomForestClassifier(random_state=42)\n",
    "rfc.fit(Xc_train, yc_train)\n",
    "print(\"3. Random Forest Feature Importances:\", rfc.feature_importances_)\n"
   ]
  },
  {
   "cell_type": "code",
   "execution_count": 6,
   "id": "58a8bb96-dddd-4721-b865-82d33799770e",
   "metadata": {},
   "outputs": [
    {
     "name": "stdout",
     "output_type": "stream",
     "text": [
      "4. Random Forest Regressor MSE: 4427.3022663481715\n",
      "   Decision Tree Regressor MSE: 12354.062819518691\n"
     ]
    }
   ],
   "source": [
    "# 4. Train a Random Forest Regressor and compare its performance with a single Decision Tree.\n",
    "rfr = RandomForestRegressor(random_state=42)\n",
    "rfr.fit(Xr_train, yr_train)\n",
    "rfr_mse = mean_squared_error(yr_test, rfr.predict(Xr_test))\n",
    "\n",
    "dt_reg = DecisionTreeRegressor(random_state=42)\n",
    "dt_reg.fit(Xr_train, yr_train)\n",
    "dt_mse = mean_squared_error(yr_test, dt_reg.predict(Xr_test))\n",
    "print(\"4. Random Forest Regressor MSE:\", rfr_mse)\n",
    "print(\"   Decision Tree Regressor MSE:\", dt_mse)\n"
   ]
  },
  {
   "cell_type": "code",
   "execution_count": 7,
   "id": "d46a5fd0-435c-4ae3-be41-1f0e57ad64d7",
   "metadata": {},
   "outputs": [
    {
     "name": "stdout",
     "output_type": "stream",
     "text": [
      "5. OOB Score (Random Forest): 0.9547738693467337\n"
     ]
    }
   ],
   "source": [
    "# 5. Compute the Out-of-Bag (OOB) Score for a Random Forest Classifier.\n",
    "rfc_oob = RandomForestClassifier(oob_score=True, bootstrap=True, random_state=42)\n",
    "rfc_oob.fit(Xc_train, yc_train)\n",
    "print(\"5. OOB Score (Random Forest):\", rfc_oob.oob_score_)\n"
   ]
  },
  {
   "cell_type": "code",
   "execution_count": 9,
   "id": "9afd72de-7cc2-4755-8073-4fb3dd835762",
   "metadata": {},
   "outputs": [
    {
     "name": "stdout",
     "output_type": "stream",
     "text": [
      "6. Bagging Classifier with SVM Accuracy: 0.9473684210526315\n"
     ]
    }
   ],
   "source": [
    "# 6. Train a Bagging Classifier using SVM as a base estimator and print accuracy.\n",
    "bc_svm = BaggingClassifier(estimator=SVC(probability=True), random_state=42)\n",
    "bc_svm.fit(Xc_train, yc_train)\n",
    "print(\"6. Bagging Classifier with SVM Accuracy:\", accuracy_score(yc_test, bc_svm.predict(Xc_test)))\n"
   ]
  },
  {
   "cell_type": "code",
   "execution_count": 10,
   "id": "b4cdec26-6864-4f88-ab4d-c59227118698",
   "metadata": {},
   "outputs": [
    {
     "name": "stdout",
     "output_type": "stream",
     "text": [
      "7. Random Forest (10 Trees) Accuracy: 0.9649122807017544\n",
      "7. Random Forest (50 Trees) Accuracy: 0.9707602339181286\n",
      "7. Random Forest (100 Trees) Accuracy: 0.9707602339181286\n"
     ]
    }
   ],
   "source": [
    "# 7. Train a Random Forest Classifier with different numbers of trees and compare accuracy.\n",
    "for n in [10, 50, 100]:\n",
    "    rfc_n = RandomForestClassifier(n_estimators=n, random_state=42)\n",
    "    rfc_n.fit(Xc_train, yc_train)\n",
    "    acc = accuracy_score(yc_test, rfc_n.predict(Xc_test))\n",
    "    print(f\"7. Random Forest ({n} Trees) Accuracy:\", acc)\n"
   ]
  },
  {
   "cell_type": "code",
   "execution_count": 11,
   "id": "e44467d2-ba04-4f46-be0d-10329cd10b94",
   "metadata": {},
   "outputs": [
    {
     "name": "stdout",
     "output_type": "stream",
     "text": [
      "8. Bagging Classifier with Logistic Regression AUC: 0.9976484420928865\n"
     ]
    }
   ],
   "source": [
    "# 8. Train a Bagging Classifier using Logistic Regression and print AUC score.\n",
    "scaler = StandardScaler()\n",
    "Xc_train_scaled = scaler.fit_transform(Xc_train)\n",
    "Xc_test_scaled = scaler.transform(Xc_test)\n",
    "\n",
    "bc_lr = BaggingClassifier(estimator=LogisticRegression(max_iter=500, solver='liblinear'), random_state=42)\n",
    "bc_lr.fit(Xc_train_scaled, yc_train)\n",
    "probs = bc_lr.predict_proba(Xc_test_scaled)[:, 1]\n",
    "print(\"8. Bagging Classifier with Logistic Regression AUC:\", roc_auc_score(yc_test, probs))\n"
   ]
  },
  {
   "cell_type": "code",
   "execution_count": 12,
   "id": "510323da-9987-423d-8312-da4640c36db0",
   "metadata": {},
   "outputs": [
    {
     "name": "stdout",
     "output_type": "stream",
     "text": [
      "9. Random Forest Regressor Feature Importances: [0.09544177 0.1450734  0.02474749 0.08263147 0.02849455 0.01934172\n",
      " 0.36507722 0.18023327 0.02042126 0.03853785]\n"
     ]
    }
   ],
   "source": [
    "# 9. Train a Random Forest Regressor and analyze feature importance scores.\n",
    "rfr = RandomForestRegressor(random_state=42)\n",
    "rfr.fit(Xr_train, yr_train)\n",
    "print(\"9. Random Forest Regressor Feature Importances:\", rfr.feature_importances_)\n"
   ]
  },
  {
   "cell_type": "code",
   "execution_count": 13,
   "id": "6da0c4d3-d89d-4201-958f-1f6366bffe22",
   "metadata": {},
   "outputs": [
    {
     "name": "stdout",
     "output_type": "stream",
     "text": [
      "10. Ensemble (Bagging + Random Forest) Accuracy: 0.9707602339181286\n"
     ]
    }
   ],
   "source": [
    "# 10. Train an ensemble model using both Bagging and Random Forest and compare accuracy.\n",
    "bc_ens = BaggingClassifier(estimator=RandomForestClassifier(random_state=42), random_state=42)\n",
    "bc_ens.fit(Xc_train, yc_train)\n",
    "print(\"10. Ensemble (Bagging + Random Forest) Accuracy:\", accuracy_score(yc_test, bc_ens.predict(Xc_test)))\n"
   ]
  },
  {
   "cell_type": "code",
   "execution_count": 14,
   "id": "6c1910b6-563c-45b7-9870-541e212334a7",
   "metadata": {},
   "outputs": [
    {
     "name": "stdout",
     "output_type": "stream",
     "text": [
      "11. Best Params (GridSearchCV): {'max_depth': None, 'n_estimators': 50}\n",
      "    Accuracy: 0.9707602339181286\n"
     ]
    }
   ],
   "source": [
    "# 11. Train a Random Forest Classifier and tune hyperparameters using GridSearchCV.\n",
    "from sklearn.ensemble import RandomForestClassifier\n",
    "from sklearn.model_selection import GridSearchCV\n",
    "\n",
    "param_grid = {\n",
    "    'n_estimators': [50, 100],\n",
    "    'max_depth': [None, 5, 10]\n",
    "}\n",
    "grid_rfc = GridSearchCV(RandomForestClassifier(random_state=42), param_grid, cv=3)\n",
    "grid_rfc.fit(Xc_train, yc_train)\n",
    "print(\"11. Best Params (GridSearchCV):\", grid_rfc.best_params_)\n",
    "print(\"    Accuracy:\", grid_rfc.score(Xc_test, yc_test))\n"
   ]
  },
  {
   "cell_type": "code",
   "execution_count": 15,
   "id": "9aef1e42-3a40-4d66-9308-20996acb7f98",
   "metadata": {},
   "outputs": [
    {
     "name": "stdout",
     "output_type": "stream",
     "text": [
      "12. Bagging Regressor (5 estimators) MSE: 7244.890667344914\n",
      "12. Bagging Regressor (10 estimators) MSE: 6243.756669557429\n",
      "12. Bagging Regressor (20 estimators) MSE: 5227.277164029636\n"
     ]
    }
   ],
   "source": [
    "# 12. Train a Bagging Regressor with different numbers of base estimators and compare performance.\n",
    "for n in [5, 10, 20]:\n",
    "    br = BaggingRegressor(estimator=DecisionTreeRegressor(), n_estimators=n, random_state=42)\n",
    "    br.fit(Xr_train, yr_train)\n",
    "    mse = mean_squared_error(yr_test, br.predict(Xr_test))\n",
    "    print(f\"12. Bagging Regressor ({n} estimators) MSE:\", mse)\n"
   ]
  },
  {
   "cell_type": "code",
   "execution_count": 16,
   "id": "3b14b527-422c-452c-ae35-7a0bb95ab8b7",
   "metadata": {},
   "outputs": [
    {
     "name": "stdout",
     "output_type": "stream",
     "text": [
      "13. Number of misclassified samples: 5\n"
     ]
    }
   ],
   "source": [
    "# 13. Train a Random Forest Classifier and analyze misclassified samples.\n",
    "rfc = RandomForestClassifier(random_state=42)\n",
    "rfc.fit(Xc_train, yc_train)\n",
    "preds = rfc.predict(Xc_test)\n",
    "misclassified_indices = np.where(preds != yc_test)[0]\n",
    "print(\"13. Number of misclassified samples:\", len(misclassified_indices))\n"
   ]
  },
  {
   "cell_type": "code",
   "execution_count": 17,
   "id": "5e4ee04f-5a19-4128-8234-c42d258cf91e",
   "metadata": {},
   "outputs": [
    {
     "name": "stdout",
     "output_type": "stream",
     "text": [
      "14. Bagging Accuracy: 0.9473684210526315\n",
      "    Single Decision Tree Accuracy: 0.9415204678362573\n"
     ]
    }
   ],
   "source": [
    "# 14. Train a Bagging Classifier and compare with a single Decision Tree Classifier.\n",
    "bc = BaggingClassifier(estimator=DecisionTreeClassifier(), random_state=42)\n",
    "bc.fit(Xc_train, yc_train)\n",
    "dt = DecisionTreeClassifier(random_state=42)\n",
    "dt.fit(Xc_train, yc_train)\n",
    "print(\"14. Bagging Accuracy:\", accuracy_score(yc_test, bc.predict(Xc_test)))\n",
    "print(\"    Single Decision Tree Accuracy:\", accuracy_score(yc_test, dt.predict(Xc_test)))\n"
   ]
  },
  {
   "cell_type": "code",
   "execution_count": 18,
   "id": "27b8e32a-e8dd-443e-8c79-753572351531",
   "metadata": {
    "scrolled": true
   },
   "outputs": [
    {
     "data": {
      "image/png": "[encoded data removed]",
      "text/plain": [
       "<Figure size 432x288 with 2 Axes>"
      ]
     },
     "metadata": {
      "needs_background": "light"
     },
     "output_type": "display_data"
    }
   ],
   "source": [
    "# 15. Train a Random Forest Classifier and visualize the confusion matrix.\n",
    "from sklearn.metrics import ConfusionMatrixDisplay\n",
    "import matplotlib.pyplot as plt\n",
    "\n",
    "rfc = RandomForestClassifier(random_state=42)\n",
    "rfc.fit(Xc_train, yc_train)\n",
    "ConfusionMatrixDisplay.from_estimator(rfc, Xc_test, yc_test)\n",
    "plt.title(\"15. Confusion Matrix - Random Forest\")\n",
    "plt.show()\n"
   ]
  },
  {
   "cell_type": "code",
   "execution_count": 19,
   "id": "74acf501-c3c3-445b-aa64-6ac04a3535e0",
   "metadata": {},
   "outputs": [
    {
     "name": "stdout",
     "output_type": "stream",
     "text": [
      "16. Stacking Classifier Accuracy: 0.9824561403508771\n"
     ]
    }
   ],
   "source": [
    "# 16. Train a Stacking Classifier using Decision Trees, SVM, and Logistic Regression.\n",
    "from sklearn.ensemble import StackingClassifier\n",
    "\n",
    "stack_model = StackingClassifier(\n",
    "    estimators=[\n",
    "        ('dt', DecisionTreeClassifier()),\n",
    "        ('svm', SVC(probability=True)),\n",
    "        ('lr', LogisticRegression(max_iter=500))\n",
    "    ],\n",
    "    final_estimator=LogisticRegression()\n",
    ")\n",
    "stack_model.fit(Xc_train, yc_train)\n",
    "print(\"16. Stacking Classifier Accuracy:\", accuracy_score(yc_test, stack_model.predict(Xc_test)))\n"
   ]
  },
  {
   "cell_type": "code",
   "execution_count": 20,
   "id": "de7cc4f7-e91d-456c-851a-98153f0d7efb",
   "metadata": {},
   "outputs": [
    {
     "name": "stdout",
     "output_type": "stream",
     "text": [
      "17. Top 5 Features (Indices): [ 7 27 23  6 20]\n",
      "    Importances: [0.14193444 0.12713638 0.11821686 0.08055702 0.07797475]\n"
     ]
    }
   ],
   "source": [
    "# 17. Train a Random Forest Classifier and print the top 5 most important features.\n",
    "rfc = RandomForestClassifier(random_state=42)\n",
    "rfc.fit(Xc_train, yc_train)\n",
    "top_features = np.argsort(rfc.feature_importances_)[::-1][:5]\n",
    "print(\"17. Top 5 Features (Indices):\", top_features)\n",
    "print(\"    Importances:\", rfc.feature_importances_[top_features])\n"
   ]
  },
  {
   "cell_type": "code",
   "execution_count": 21,
   "id": "1cfcd014-ed78-442f-ab1f-171a70fbc3ee",
   "metadata": {},
   "outputs": [
    {
     "name": "stdout",
     "output_type": "stream",
     "text": [
      "18. Precision: 0.9626168224299065\n",
      "    Recall: 0.9537037037037037\n",
      "    F1 Score: 0.958139534883721\n"
     ]
    }
   ],
   "source": [
    "# 18. Train a Bagging Classifier and evaluate Precision, Recall, F1-score.\n",
    "from sklearn.metrics import precision_score, recall_score, f1_score\n",
    "\n",
    "bc = BaggingClassifier(estimator=DecisionTreeClassifier(), random_state=42)\n",
    "bc.fit(Xc_train, yc_train)\n",
    "y_pred = bc.predict(Xc_test)\n",
    "print(\"18. Precision:\", precision_score(yc_test, y_pred))\n",
    "print(\"    Recall:\", recall_score(yc_test, y_pred))\n",
    "print(\"    F1 Score:\", f1_score(yc_test, y_pred))\n"
   ]
  },
  {
   "cell_type": "code",
   "execution_count": 22,
   "id": "c188fc9a-e778-4329-a9fc-a9ec5c88d526",
   "metadata": {},
   "outputs": [
    {
     "name": "stdout",
     "output_type": "stream",
     "text": [
      "19. max_depth=2 -> Accuracy: 0.9532163742690059\n",
      "19. max_depth=5 -> Accuracy: 0.9649122807017544\n",
      "19. max_depth=10 -> Accuracy: 0.9707602339181286\n",
      "19. max_depth=None -> Accuracy: 0.9707602339181286\n"
     ]
    }
   ],
   "source": [
    "# 19. Train a Random Forest Classifier and analyze effect of max_depth on accuracy.\n",
    "for depth in [2, 5, 10, None]:\n",
    "    model = RandomForestClassifier(max_depth=depth, random_state=42)\n",
    "    model.fit(Xc_train, yc_train)\n",
    "    acc = accuracy_score(yc_test, model.predict(Xc_test))\n",
    "    print(f\"19. max_depth={depth} -> Accuracy: {acc}\")\n"
   ]
  },
  {
   "cell_type": "code",
   "execution_count": 23,
   "id": "29c74041-5ef7-44b9-b3cc-d8c52157e768",
   "metadata": {},
   "outputs": [
    {
     "name": "stdout",
     "output_type": "stream",
     "text": [
      "20. Base Estimator: DecisionTreeRegressor -> MSE: 6243.756669557429\n",
      "20. Base Estimator: KNeighborsRegressor -> MSE: 4653.525135070947\n"
     ]
    }
   ],
   "source": [
    "# 20. Train a Bagging Regressor with DecisionTree and KNeighbors, compare performance.\n",
    "from sklearn.neighbors import KNeighborsRegressor\n",
    "\n",
    "for base in [DecisionTreeRegressor(), KNeighborsRegressor()]:\n",
    "    br = BaggingRegressor(estimator=base, random_state=42)\n",
    "    br.fit(Xr_train, yr_train)\n",
    "    pred = br.predict(Xr_test)\n",
    "    mse = mean_squared_error(yr_test, pred)\n",
    "    print(f\"20. Base Estimator: {base.__class__.__name__} -> MSE: {mse}\")\n"
   ]
  },
  {
   "cell_type": "code",
   "execution_count": 24,
   "id": "b4d8aa25-45b6-479e-beb1-9ab47911023d",
   "metadata": {},
   "outputs": [
    {
     "name": "stdout",
     "output_type": "stream",
     "text": [
      "21. Random Forest ROC-AUC Score: 0.9968400940623163\n"
     ]
    }
   ],
   "source": [
    "# 21. Train a Random Forest Classifier and evaluate its performance using ROC-AUC Score.\n",
    "from sklearn.metrics import roc_auc_score\n",
    "\n",
    "rfc = RandomForestClassifier(random_state=42)\n",
    "rfc.fit(Xc_train, yc_train)\n",
    "probs = rfc.predict_proba(Xc_test)[:, 1]\n",
    "print(\"21. Random Forest ROC-AUC Score:\", roc_auc_score(yc_test, probs))\n"
   ]
  },
  {
   "cell_type": "code",
   "execution_count": 25,
   "id": "7318f181-33a3-4a48-b7d7-764b4d1aa675",
   "metadata": {},
   "outputs": [
    {
     "name": "stdout",
     "output_type": "stream",
     "text": [
      "22. Bagging Classifier CV Accuracy Scores: [0.92982456 0.93859649 0.97368421 0.93859649 0.97345133]\n",
      "    Mean Accuracy: 0.9508306163639186\n"
     ]
    }
   ],
   "source": [
    "# 22. Train a Bagging Classifier and evaluate its performance using cross-validation.\n",
    "from sklearn.model_selection import cross_val_score\n",
    "\n",
    "bc = BaggingClassifier(estimator=DecisionTreeClassifier(), random_state=42)\n",
    "cv_scores = cross_val_score(bc, X_class, y_class, cv=5)\n",
    "print(\"22. Bagging Classifier CV Accuracy Scores:\", cv_scores)\n",
    "print(\"    Mean Accuracy:\", np.mean(cv_scores))\n"
   ]
  },
  {
   "cell_type": "code",
   "execution_count": 26,
   "id": "34b8e38a-2843-4165-8e48-f793ad10e4c0",
   "metadata": {},
   "outputs": [
    {
     "data": {
      "image/png": "[encoded data removed]",
      "text/plain": [
       "<Figure size 432x288 with 1 Axes>"
      ]
     },
     "metadata": {
      "needs_background": "light"
     },
     "output_type": "display_data"
    }
   ],
   "source": [
    "# 23. Train a Random Forest Classifier and plot the Precision–Recall curve.\n",
    "from sklearn.metrics import precision_recall_curve, PrecisionRecallDisplay\n",
    "\n",
    "rfc = RandomForestClassifier(random_state=42)\n",
    "rfc.fit(Xc_train, yc_train)\n",
    "y_scores = rfc.predict_proba(Xc_test)[:, 1]\n",
    "precision, recall, _ = precision_recall_curve(yc_test, y_scores)\n",
    "disp = PrecisionRecallDisplay(precision=precision, recall=recall)\n",
    "disp.plot()\n",
    "plt.title(\"23. Precision-Recall Curve (Random Forest)\")\n",
    "plt.show()\n"
   ]
  },
  {
   "cell_type": "code",
   "execution_count": 27,
   "id": "14fc3703-593f-43a0-bf66-b70e80ccfe29",
   "metadata": {},
   "outputs": [
    {
     "name": "stdout",
     "output_type": "stream",
     "text": [
      "24. Stacking Classifier (RF + LR) Accuracy: 0.9707602339181286\n"
     ]
    }
   ],
   "source": [
    "# 24. Train a Stacking Classifier with Random Forest and Logistic Regression and compare accuracy.\n",
    "stack_model = StackingClassifier(\n",
    "    estimators=[\n",
    "        ('rf', RandomForestClassifier(random_state=42)),\n",
    "        ('lr', LogisticRegression(max_iter=500))\n",
    "    ],\n",
    "    final_estimator=LogisticRegression()\n",
    ")\n",
    "stack_model.fit(Xc_train, yc_train)\n",
    "print(\"24. Stacking Classifier (RF + LR) Accuracy:\", accuracy_score(yc_test, stack_model.predict(Xc_test)))\n"
   ]
  },
  {
   "cell_type": "code",
   "execution_count": 28,
   "id": "216a46f3-fc9a-43fa-9978-d5f7f772a5fb",
   "metadata": {},
   "outputs": [
    {
     "name": "stdout",
     "output_type": "stream",
     "text": [
      "25. Bootstrap Fraction = 0.5 -> MSE: 6328.8331293775445\n",
      "25. Bootstrap Fraction = 0.7 -> MSE: 5677.491455681762\n",
      "25. Bootstrap Fraction = 1.0 -> MSE: 6243.756669557429\n"
     ]
    }
   ],
   "source": [
    "# 25. Train a Bagging Regressor with different bootstrap sample sizes and compare performance.\n",
    "for sample_frac in [0.5, 0.7, 1.0]:\n",
    "    br = BaggingRegressor(estimator=DecisionTreeRegressor(), max_samples=sample_frac, random_state=42)\n",
    "    br.fit(Xr_train, yr_train)\n",
    "    mse = mean_squared_error(yr_test, br.predict(Xr_test))\n",
    "    print(f\"25. Bootstrap Fraction = {sample_frac} -> MSE: {mse}\")\n"
   ]
  },
  {
   "cell_type": "code",
   "execution_count": null,
   "id": "9ba980f3-3f2e-4ee8-8311-4b7ec3ca09dd",
   "metadata": {},
   "outputs": [],
   "source": []
  }
 ],
 "metadata": {
  "kernelspec": {
   "display_name": "Python 3 (ipykernel)",
   "language": "python",
   "name": "python3"
  },
  "language_info": {
   "codemirror_mode": {
    "name": "ipython",
    "version": 3
   },
   "file_extension": ".py",
   "mimetype": "text/x-python",
   "name": "python",
   "nbconvert_exporter": "python",
   "pygments_lexer": "ipython3",
   "version": "3.10.5"
  }
 },
 "nbformat": 4,
 "nbformat_minor": 5
}
