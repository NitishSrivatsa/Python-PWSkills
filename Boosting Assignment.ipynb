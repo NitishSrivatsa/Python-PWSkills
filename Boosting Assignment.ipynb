{
 "cells": [
  {
   "cell_type": "code",
   "execution_count": 1,
   "id": "b291a369-7aca-423b-929a-d28b3d180f8f",
   "metadata": {},
   "outputs": [
    {
     "name": "stdout",
     "output_type": "stream",
     "text": [
      "Accuracy: 0.875\n"
     ]
    }
   ],
   "source": [
    "# 14. Train an AdaBoost Classifier on a sample dataset and print model accuracy.\n",
    "from sklearn.ensemble import AdaBoostClassifier\n",
    "from sklearn.datasets import make_classification\n",
    "from sklearn.model_selection import train_test_split\n",
    "from sklearn.metrics import accuracy_score\n",
    "\n",
    "X, y = make_classification(n_samples=1000, n_features=20, random_state=42)\n",
    "X_train, X_test, y_train, y_test = train_test_split(X, y, test_size=0.2, random_state=42)\n",
    "clf = AdaBoostClassifier(n_estimators=50)\n",
    "clf.fit(X_train, y_train)\n",
    "print(\"Accuracy:\", accuracy_score(y_test, clf.predict(X_test)))\n"
   ]
  },
  {
   "cell_type": "code",
   "execution_count": 2,
   "id": "7ffd5023-851f-432a-85c9-4a190a4d21f1",
   "metadata": {},
   "outputs": [
    {
     "name": "stdout",
     "output_type": "stream",
     "text": [
      "MAE: 0.25151725365662786\n"
     ]
    }
   ],
   "source": [
    "# 15. Train an AdaBoost Regressor and evaluate performance using Mean Absolute Error (MAE).\n",
    "from sklearn.ensemble import AdaBoostRegressor\n",
    "from sklearn.metrics import mean_absolute_error\n",
    "import numpy as np\n",
    "\n",
    "y_reg = np.random.rand(1000)\n",
    "X_train_r, X_test_r, y_train_r, y_test_r = train_test_split(X, y_reg, test_size=0.2, random_state=42)\n",
    "reg = AdaBoostRegressor(n_estimators=50)\n",
    "reg.fit(X_train_r, y_train_r)\n",
    "print(\"MAE:\", mean_absolute_error(y_test_r, reg.predict(X_test_r)))\n"
   ]
  },
  {
   "cell_type": "code",
   "execution_count": 3,
   "id": "e61a889e-217b-4308-a4dd-4b45a3cfb41e",
   "metadata": {},
   "outputs": [
    {
     "name": "stdout",
     "output_type": "stream",
     "text": [
      "Feature Importances: [3.14332283e-04 2.45625319e-02 2.34317710e-04 8.72940601e-05\n",
      " 2.08834333e-03 1.88421642e-03 2.31288656e-03 4.49235450e-01\n",
      " 2.19944455e-03 1.41753388e-04 6.51770316e-03 3.82180145e-03\n",
      " 1.71500321e-03 8.22218701e-03 1.82651394e-03 1.35635435e-03\n",
      " 1.60890735e-02 1.97785628e-03 2.34096073e-05 4.08016956e-04\n",
      " 7.59280447e-02 4.31234122e-02 5.22034667e-02 3.71798069e-02\n",
      " 4.74420328e-03 1.06363461e-03 1.88127471e-02 2.40523139e-01\n",
      " 1.14194294e-03 2.61113618e-04]\n"
     ]
    }
   ],
   "source": [
    "# 16. Train a Gradient Boosting Classifier on the Breast Cancer dataset and print feature importance.\n",
    "from sklearn.ensemble import GradientBoostingClassifier\n",
    "from sklearn.datasets import load_breast_cancer\n",
    "\n",
    "data = load_breast_cancer()\n",
    "X_bc, y_bc = data.data, data.target\n",
    "X_train_bc, X_test_bc, y_train_bc, y_test_bc = train_test_split(X_bc, y_bc, test_size=0.2, random_state=42)\n",
    "gbc = GradientBoostingClassifier()\n",
    "gbc.fit(X_train_bc, y_train_bc)\n",
    "print(\"Feature Importances:\", gbc.feature_importances_)\n"
   ]
  },
  {
   "cell_type": "code",
   "execution_count": 4,
   "id": "5a4a1e49-0d82-4d2b-9a3d-99c91e3a9afe",
   "metadata": {},
   "outputs": [
    {
     "name": "stdout",
     "output_type": "stream",
     "text": [
      "R² Score: -0.08969658176702744\n"
     ]
    }
   ],
   "source": [
    "# 17. Train a Gradient Boosting Regressor and evaluate using R-Squared Score.\n",
    "from sklearn.ensemble import GradientBoostingRegressor\n",
    "from sklearn.metrics import r2_score\n",
    "\n",
    "gbr = GradientBoostingRegressor()\n",
    "gbr.fit(X_train_r, y_train_r)\n",
    "print(\"R² Score:\", r2_score(y_test_r, gbr.predict(X_test_r)))\n"
   ]
  },
  {
   "cell_type": "code",
   "execution_count": 6,
   "id": "5a54a24c-9f4d-4750-bda5-f8f07036b6bc",
   "metadata": {},
   "outputs": [
    {
     "name": "stderr",
     "output_type": "stream",
     "text": [
      "WARNING: Ignoring invalid distribution -p (c:\\python310\\lib\\site-packages)\n",
      "WARNING: Ignoring invalid distribution -ygments (c:\\python310\\lib\\site-packages)\n",
      "WARNING: Ignoring invalid distribution -umpy (c:\\python310\\lib\\site-packages)\n",
      "WARNING: Ignoring invalid distribution -otebook (c:\\python310\\lib\\site-packages)\n",
      "WARNING: Ignoring invalid distribution -ip (c:\\python310\\lib\\site-packages)\n",
      "WARNING: Ignoring invalid distribution - (c:\\python310\\lib\\site-packages)\n",
      "WARNING: Ignoring invalid distribution -p (c:\\python310\\lib\\site-packages)\n",
      "WARNING: Ignoring invalid distribution -ygments (c:\\python310\\lib\\site-packages)\n",
      "WARNING: Ignoring invalid distribution -umpy (c:\\python310\\lib\\site-packages)\n",
      "WARNING: Ignoring invalid distribution -otebook (c:\\python310\\lib\\site-packages)\n",
      "WARNING: Ignoring invalid distribution -ip (c:\\python310\\lib\\site-packages)\n",
      "WARNING: Ignoring invalid distribution - (c:\\python310\\lib\\site-packages)\n",
      "WARNING: Ignoring invalid distribution -p (c:\\python310\\lib\\site-packages)\n",
      "WARNING: Ignoring invalid distribution -ygments (c:\\python310\\lib\\site-packages)\n",
      "WARNING: Ignoring invalid distribution -umpy (c:\\python310\\lib\\site-packages)\n",
      "WARNING: Ignoring invalid distribution -otebook (c:\\python310\\lib\\site-packages)\n",
      "WARNING: Ignoring invalid distribution -ip (c:\\python310\\lib\\site-packages)\n",
      "WARNING: Ignoring invalid distribution - (c:\\python310\\lib\\site-packages)\n",
      "WARNING: Ignoring invalid distribution -p (c:\\python310\\lib\\site-packages)\n",
      "WARNING: Ignoring invalid distribution -ygments (c:\\python310\\lib\\site-packages)\n",
      "WARNING: Ignoring invalid distribution -umpy (c:\\python310\\lib\\site-packages)\n",
      "WARNING: Ignoring invalid distribution -otebook (c:\\python310\\lib\\site-packages)\n",
      "WARNING: Ignoring invalid distribution -ip (c:\\python310\\lib\\site-packages)\n",
      "WARNING: Ignoring invalid distribution - (c:\\python310\\lib\\site-packages)\n",
      "WARNING: Ignoring invalid distribution -p (c:\\python310\\lib\\site-packages)\n",
      "WARNING: Ignoring invalid distribution -ygments (c:\\python310\\lib\\site-packages)\n",
      "WARNING: Ignoring invalid distribution -umpy (c:\\python310\\lib\\site-packages)\n",
      "WARNING: Ignoring invalid distribution -otebook (c:\\python310\\lib\\site-packages)\n",
      "WARNING: Ignoring invalid distribution -ip (c:\\python310\\lib\\site-packages)\n",
      "WARNING: Ignoring invalid distribution - (c:\\python310\\lib\\site-packages)\n",
      "WARNING: Ignoring invalid distribution -p (c:\\python310\\lib\\site-packages)\n",
      "WARNING: Ignoring invalid distribution -ygments (c:\\python310\\lib\\site-packages)\n",
      "WARNING: Ignoring invalid distribution -umpy (c:\\python310\\lib\\site-packages)\n",
      "WARNING: Ignoring invalid distribution -otebook (c:\\python310\\lib\\site-packages)\n",
      "WARNING: Ignoring invalid distribution -ip (c:\\python310\\lib\\site-packages)\n",
      "WARNING: Ignoring invalid distribution - (c:\\python310\\lib\\site-packages)\n"
     ]
    },
    {
     "name": "stdout",
     "output_type": "stream",
     "text": [
      "Collecting xgboost\n",
      "  Downloading xgboost-3.0.0-py3-none-win_amd64.whl (150.0 MB)\n",
      "     -------------------------------------- 150.0/150.0 MB 3.0 MB/s eta 0:00:00\n",
      "Requirement already satisfied: scipy in c:\\python310\\lib\\site-packages (from xgboost) (1.9.3)\n",
      "Requirement already satisfied: numpy in c:\\python310\\lib\\site-packages (from xgboost) (1.25.2)\n",
      "Installing collected packages: xgboost\n",
      "Successfully installed xgboost-3.0.0\n"
     ]
    },
    {
     "name": "stderr",
     "output_type": "stream",
     "text": [
      "C:\\Python310\\lib\\site-packages\\xgboost\\training.py:183: UserWarning: [08:03:45] WARNING: C:\\actions-runner\\_work\\xgboost\\xgboost\\src\\learner.cc:738: \n",
      "Parameters: { \"use_label_encoder\" } are not used.\n",
      "\n",
      "  bst.update(dtrain, iteration=i, fobj=obj)\n"
     ]
    },
    {
     "name": "stdout",
     "output_type": "stream",
     "text": [
      "XGBoost Accuracy: 0.895\n",
      "Gradient Boosting Accuracy: 0.91\n"
     ]
    }
   ],
   "source": [
    "# 18. Train an XGBoost Classifier on a dataset and compare accuracy with Gradient Boosting.\n",
    "!pip install xgboost\n",
    "from xgboost import XGBClassifier\n",
    "\n",
    "xgb_clf = XGBClassifier(eval_metric='logloss', use_label_encoder=False)\n",
    "xgb_clf.fit(X_train, y_train)\n",
    "gb_clf = GradientBoostingClassifier()\n",
    "gb_clf.fit(X_train, y_train)\n",
    "print(\"XGBoost Accuracy:\", accuracy_score(y_test, xgb_clf.predict(X_test)))\n",
    "print(\"Gradient Boosting Accuracy:\", accuracy_score(y_test, gb_clf.predict(X_test)))\n"
   ]
  },
  {
   "cell_type": "code",
   "execution_count": 13,
   "id": "9ee7e9ea-f0a8-4ace-8326-134a104ebdd4",
   "metadata": {},
   "outputs": [
    {
     "name": "stderr",
     "output_type": "stream",
     "text": [
      "WARNING: Ignoring invalid distribution -p (c:\\python310\\lib\\site-packages)\n",
      "WARNING: Ignoring invalid distribution -ygments (c:\\python310\\lib\\site-packages)\n",
      "WARNING: Ignoring invalid distribution -umpy (c:\\python310\\lib\\site-packages)\n",
      "WARNING: Ignoring invalid distribution -otebook (c:\\python310\\lib\\site-packages)\n",
      "WARNING: Ignoring invalid distribution -ip (c:\\python310\\lib\\site-packages)\n",
      "WARNING: Ignoring invalid distribution - (c:\\python310\\lib\\site-packages)\n",
      "WARNING: Ignoring invalid distribution -p (c:\\python310\\lib\\site-packages)\n",
      "WARNING: Ignoring invalid distribution -ygments (c:\\python310\\lib\\site-packages)\n",
      "WARNING: Ignoring invalid distribution -umpy (c:\\python310\\lib\\site-packages)\n",
      "WARNING: Ignoring invalid distribution -otebook (c:\\python310\\lib\\site-packages)\n",
      "WARNING: Ignoring invalid distribution -ip (c:\\python310\\lib\\site-packages)\n",
      "WARNING: Ignoring invalid distribution - (c:\\python310\\lib\\site-packages)\n",
      "WARNING: Ignoring invalid distribution -p (c:\\python310\\lib\\site-packages)\n",
      "WARNING: Ignoring invalid distribution -ygments (c:\\python310\\lib\\site-packages)\n",
      "WARNING: Ignoring invalid distribution -umpy (c:\\python310\\lib\\site-packages)\n",
      "WARNING: Ignoring invalid distribution -otebook (c:\\python310\\lib\\site-packages)\n",
      "WARNING: Ignoring invalid distribution -ip (c:\\python310\\lib\\site-packages)\n",
      "WARNING: Ignoring invalid distribution - (c:\\python310\\lib\\site-packages)\n",
      "ERROR: Could not install packages due to an OSError: [Errno 13] Permission denied: 'C:\\\\Python310\\\\etc\\\\jupyter\\\\nbconfig\\\\notebook.d\\\\catboost-widget.json'\n",
      "Consider using the `--user` option or check the permissions.\n",
      "\n",
      "WARNING: Ignoring invalid distribution -p (c:\\python310\\lib\\site-packages)\n",
      "WARNING: Ignoring invalid distribution -ygments (c:\\python310\\lib\\site-packages)\n",
      "WARNING: Ignoring invalid distribution -umpy (c:\\python310\\lib\\site-packages)\n",
      "WARNING: Ignoring invalid distribution -otebook (c:\\python310\\lib\\site-packages)\n",
      "WARNING: Ignoring invalid distribution -ip (c:\\python310\\lib\\site-packages)\n",
      "WARNING: Ignoring invalid distribution - (c:\\python310\\lib\\site-packages)\n",
      "WARNING: Ignoring invalid distribution -p (c:\\python310\\lib\\site-packages)\n",
      "WARNING: Ignoring invalid distribution -ygments (c:\\python310\\lib\\site-packages)\n",
      "WARNING: Ignoring invalid distribution -umpy (c:\\python310\\lib\\site-packages)\n",
      "WARNING: Ignoring invalid distribution -otebook (c:\\python310\\lib\\site-packages)\n",
      "WARNING: Ignoring invalid distribution -ip (c:\\python310\\lib\\site-packages)\n",
      "WARNING: Ignoring invalid distribution - (c:\\python310\\lib\\site-packages)\n"
     ]
    },
    {
     "name": "stdout",
     "output_type": "stream",
     "text": [
      "Collecting catboost\n",
      "  Downloading catboost-1.2.8-cp310-cp310-win_amd64.whl (102.5 MB)\n",
      "     -------------------------------------- 102.5/102.5 MB 1.9 MB/s eta 0:00:00\n",
      "Requirement already satisfied: graphviz in c:\\python310\\lib\\site-packages (from catboost) (0.20.3)\n",
      "Requirement already satisfied: plotly in c:\\python310\\lib\\site-packages (from catboost) (5.24.1)\n",
      "Requirement already satisfied: six in c:\\python310\\lib\\site-packages (from catboost) (1.17.0)\n",
      "Requirement already satisfied: scipy in c:\\python310\\lib\\site-packages (from catboost) (1.9.3)\n",
      "Requirement already satisfied: pandas>=0.24 in c:\\python310\\lib\\site-packages (from catboost) (2.2.3)\n",
      "Requirement already satisfied: numpy<3.0,>=1.16.0 in c:\\python310\\lib\\site-packages (from catboost) (1.25.2)\n",
      "Requirement already satisfied: matplotlib in c:\\python310\\lib\\site-packages (from catboost) (3.5.1)\n",
      "Requirement already satisfied: pytz>=2020.1 in c:\\python310\\lib\\site-packages (from pandas>=0.24->catboost) (2025.1)\n",
      "Requirement already satisfied: tzdata>=2022.7 in c:\\python310\\lib\\site-packages (from pandas>=0.24->catboost) (2025.1)\n",
      "Requirement already satisfied: python-dateutil>=2.8.2 in c:\\python310\\lib\\site-packages (from pandas>=0.24->catboost) (2.9.0.post0)\n",
      "Requirement already satisfied: packaging>=20.0 in c:\\python310\\lib\\site-packages (from matplotlib->catboost) (24.2)\n",
      "Requirement already satisfied: pyparsing>=2.2.1 in c:\\python310\\lib\\site-packages (from matplotlib->catboost) (3.0.7)\n",
      "Requirement already satisfied: pillow>=6.2.0 in c:\\python310\\lib\\site-packages (from matplotlib->catboost) (9.1.0)\n",
      "Requirement already satisfied: cycler>=0.10 in c:\\python310\\lib\\site-packages (from matplotlib->catboost) (0.11.0)\n",
      "Requirement already satisfied: kiwisolver>=1.0.1 in c:\\python310\\lib\\site-packages (from matplotlib->catboost) (1.4.2)\n",
      "Requirement already satisfied: fonttools>=4.22.0 in c:\\python310\\lib\\site-packages (from matplotlib->catboost) (4.32.0)\n",
      "Requirement already satisfied: tenacity>=6.2.0 in c:\\python310\\lib\\site-packages (from plotly->catboost) (9.0.0)\n",
      "Installing collected packages: catboost\n",
      "F1 Score: 0.9064039408866995\n"
     ]
    }
   ],
   "source": [
    "# 19. Train a CatBoost Classifier and evaluate using F1-Score.\n",
    "!pip install catboost\n",
    "from catboost import CatBoostClassifier\n",
    "from sklearn.metrics import f1_score\n",
    "\n",
    "cat_clf = CatBoostClassifier(verbose=0)\n",
    "cat_clf.fit(X_train, y_train)\n",
    "print(\"F1 Score:\", f1_score(y_test, cat_clf.predict(X_test)))\n"
   ]
  },
  {
   "cell_type": "code",
   "execution_count": 7,
   "id": "db3e1395-549e-42a3-bc66-be5af364f8e1",
   "metadata": {},
   "outputs": [
    {
     "name": "stdout",
     "output_type": "stream",
     "text": [
      "MSE: 0.09841804326108497\n"
     ]
    }
   ],
   "source": [
    "# 20. Train an XGBoost Regressor and evaluate using Mean Squared Error (MSE).\n",
    "from xgboost import XGBRegressor\n",
    "from sklearn.metrics import mean_squared_error\n",
    "\n",
    "xgb_reg = XGBRegressor()\n",
    "xgb_reg.fit(X_train_r, y_train_r)\n",
    "print(\"MSE:\", mean_squared_error(y_test_r, xgb_reg.predict(X_test_r)))\n"
   ]
  },
  {
   "cell_type": "code",
   "execution_count": 8,
   "id": "53c376e0-91d0-43fd-b190-9e1f16c0349e",
   "metadata": {},
   "outputs": [
    {
     "data": {
      "image/png": "[encoded data removed]",
      "text/plain": [
       "<Figure size 432x288 with 1 Axes>"
      ]
     },
     "metadata": {
      "needs_background": "light"
     },
     "output_type": "display_data"
    }
   ],
   "source": [
    "# 21. Train an AdaBoost Classifier and visualize feature importance.\n",
    "import matplotlib.pyplot as plt\n",
    "\n",
    "clf = AdaBoostClassifier(n_estimators=50)\n",
    "clf.fit(X_train, y_train)\n",
    "plt.bar(range(X.shape[1]), clf.feature_importances_)\n",
    "plt.title(\"AdaBoost Feature Importance\")\n",
    "plt.show()\n"
   ]
  },
  {
   "cell_type": "code",
   "execution_count": 9,
   "id": "2754e387-6b03-4943-9cda-d591ba9f2190",
   "metadata": {},
   "outputs": [
    {
     "data": {
      "image/png": "[encoded data removed]",
      "text/plain": [
       "<Figure size 432x288 with 1 Axes>"
      ]
     },
     "metadata": {
      "needs_background": "light"
     },
     "output_type": "display_data"
    }
   ],
   "source": [
    "# 22. Train a Gradient Boosting Regressor and plot learning curves.\n",
    "train_sizes = [50, 100, 200, 400, 800]\n",
    "train_scores = []\n",
    "test_scores = []\n",
    "\n",
    "for m in train_sizes:\n",
    "    gbr = GradientBoostingRegressor()\n",
    "    gbr.fit(X_train_r[:m], y_train_r[:m])\n",
    "    train_scores.append(gbr.score(X_train_r[:m], y_train_r[:m]))\n",
    "    test_scores.append(gbr.score(X_test_r, y_test_r))\n",
    "\n",
    "plt.plot(train_sizes, train_scores, label='Train')\n",
    "plt.plot(train_sizes, test_scores, label='Test')\n",
    "plt.title(\"Learning Curves - Gradient Boosting Regressor\")\n",
    "plt.legend()\n",
    "plt.show()\n"
   ]
  },
  {
   "cell_type": "code",
   "execution_count": 10,
   "id": "6b00a10c-9a5d-457e-a686-9dd1e0c106ad",
   "metadata": {},
   "outputs": [
    {
     "name": "stderr",
     "output_type": "stream",
     "text": [
      "C:\\Python310\\lib\\site-packages\\xgboost\\training.py:183: UserWarning: [08:03:51] WARNING: C:\\actions-runner\\_work\\xgboost\\xgboost\\src\\learner.cc:738: \n",
      "Parameters: { \"use_label_encoder\" } are not used.\n",
      "\n",
      "  bst.update(dtrain, iteration=i, fobj=obj)\n"
     ]
    },
    {
     "data": {
      "image/png": "[encoded data removed]",
      "text/plain": [
       "<Figure size 432x288 with 1 Axes>"
      ]
     },
     "metadata": {
      "needs_background": "light"
     },
     "output_type": "display_data"
    }
   ],
   "source": [
    "# 23. Train an XGBoost Classifier and visualize feature importance.\n",
    "from xgboost import plot_importance\n",
    "\n",
    "xgb_clf.fit(X_train, y_train)\n",
    "plot_importance(xgb_clf)\n",
    "plt.title(\"XGBoost Feature Importance\")\n",
    "plt.show()\n"
   ]
  },
  {
   "cell_type": "code",
   "execution_count": 14,
   "id": "79c9ff3f-b2da-4938-b746-938d87ec0d8a",
   "metadata": {},
   "outputs": [
    {
     "data": {
      "image/png": "[encoded data removed]",
      "text/plain": [
       "<Figure size 432x288 with 2 Axes>"
      ]
     },
     "metadata": {
      "needs_background": "light"
     },
     "output_type": "display_data"
    }
   ],
   "source": [
    "# 24. Train a CatBoost Classifier and plot the confusion matrix.\n",
    "from sklearn.metrics import confusion_matrix, ConfusionMatrixDisplay\n",
    "\n",
    "cat_clf = CatBoostClassifier(verbose=0)\n",
    "cat_clf.fit(X_train, y_train)\n",
    "cm = confusion_matrix(y_test, cat_clf.predict(X_test))\n",
    "ConfusionMatrixDisplay(cm).plot()\n",
    "plt.title(\"CatBoost Confusion Matrix\")\n",
    "plt.show()\n"
   ]
  },
  {
   "cell_type": "code",
   "execution_count": 15,
   "id": "172bcb06-f591-49e6-a3c9-e7f1fd658c52",
   "metadata": {},
   "outputs": [
    {
     "name": "stdout",
     "output_type": "stream",
     "text": [
      "n_estimators=10, Accuracy: 0.86\n",
      "n_estimators=50, Accuracy: 0.875\n",
      "n_estimators=100, Accuracy: 0.865\n",
      "n_estimators=200, Accuracy: 0.865\n"
     ]
    }
   ],
   "source": [
    "# 25. Train an AdaBoost Classifier with different numbers of estimators and compare accuracy.\n",
    "for n in [10, 50, 100, 200]:\n",
    "    clf = AdaBoostClassifier(n_estimators=n)\n",
    "    clf.fit(X_train, y_train)\n",
    "    print(f\"n_estimators={n}, Accuracy: {accuracy_score(y_test, clf.predict(X_test))}\")\n"
   ]
  },
  {
   "cell_type": "code",
   "execution_count": 16,
   "id": "404a18ec-5fa2-4fcb-b5cc-aadc79891b3d",
   "metadata": {},
   "outputs": [
    {
     "data": {
      "image/png": "[encoded data removed]",
      "text/plain": [
       "<Figure size 432x288 with 1 Axes>"
      ]
     },
     "metadata": {
      "needs_background": "light"
     },
     "output_type": "display_data"
    }
   ],
   "source": [
    "# 26. Train a Gradient Boosting Classifier and visualize the ROC curve.\n",
    "from sklearn.metrics import roc_curve, auc\n",
    "\n",
    "gbc = GradientBoostingClassifier()\n",
    "gbc.fit(X_train, y_train)\n",
    "y_scores = gbc.predict_proba(X_test)[:, 1]\n",
    "fpr, tpr, _ = roc_curve(y_test, y_scores)\n",
    "roc_auc = auc(fpr, tpr)\n",
    "plt.plot(fpr, tpr, label=f\"AUC = {roc_auc:.2f}\")\n",
    "plt.plot([0, 1], [0, 1], 'k--')\n",
    "plt.xlabel(\"False Positive Rate\")\n",
    "plt.ylabel(\"True Positive Rate\")\n",
    "plt.title(\"ROC Curve - Gradient Boosting\")\n",
    "plt.legend()\n",
    "plt.show()\n"
   ]
  },
  {
   "cell_type": "code",
   "execution_count": 17,
   "id": "5442b0c3-b900-435f-a3c3-d8f89775ea96",
   "metadata": {},
   "outputs": [
    {
     "name": "stdout",
     "output_type": "stream",
     "text": [
      "Best Parameters: {'learning_rate': 0.01}\n",
      "Best MSE: 0.08293769051437794\n"
     ]
    }
   ],
   "source": [
    "# 27. Train an XGBoost Regressor and tune the learning rate using GridSearchCV.\n",
    "from sklearn.model_selection import GridSearchCV\n",
    "\n",
    "param_grid = {'learning_rate': [0.01, 0.05, 0.1, 0.2]}\n",
    "grid = GridSearchCV(XGBRegressor(), param_grid, scoring='neg_mean_squared_error')\n",
    "grid.fit(X_train_r, y_train_r)\n",
    "print(\"Best Parameters:\", grid.best_params_)\n",
    "print(\"Best MSE:\", -grid.best_score_)\n"
   ]
  },
  {
   "cell_type": "code",
   "execution_count": 18,
   "id": "dc95e981-5b9b-4896-bc57-6617e2415271",
   "metadata": {},
   "outputs": [
    {
     "name": "stdout",
     "output_type": "stream",
     "text": [
      "Weighted F1 Score: 0.9019607843137255\n"
     ]
    }
   ],
   "source": [
    "# 28. Train a CatBoost Classifier on an imbalanced dataset and compare performance with class weighting.\n",
    "from sklearn.utils.class_weight import compute_class_weight\n",
    "\n",
    "class_weights = compute_class_weight('balanced', classes=np.unique(y_train), y=y_train)\n",
    "weights_dict = dict(zip(np.unique(y_train), class_weights))\n",
    "cat_clf = CatBoostClassifier(class_weights=weights_dict, verbose=0)\n",
    "cat_clf.fit(X_train, y_train)\n",
    "print(\"Weighted F1 Score:\", f1_score(y_test, cat_clf.predict(X_test)))\n"
   ]
  },
  {
   "cell_type": "code",
   "execution_count": 19,
   "id": "49a32797-cec0-4b07-a749-a227a082b879",
   "metadata": {},
   "outputs": [
    {
     "name": "stdout",
     "output_type": "stream",
     "text": [
      "Learning Rate=0.01, Accuracy: 0.86\n",
      "Learning Rate=0.1, Accuracy: 0.86\n",
      "Learning Rate=0.5, Accuracy: 0.86\n",
      "Learning Rate=1.0, Accuracy: 0.875\n"
     ]
    }
   ],
   "source": [
    "# 29. Train an AdaBoost Classifier and analyze the effect of different learning rates.\n",
    "for lr in [0.01, 0.1, 0.5, 1.0]:\n",
    "    clf = AdaBoostClassifier(learning_rate=lr)\n",
    "    clf.fit(X_train, y_train)\n",
    "    print(f\"Learning Rate={lr}, Accuracy: {accuracy_score(y_test, clf.predict(X_test))}\")\n"
   ]
  },
  {
   "cell_type": "code",
   "execution_count": 21,
   "id": "0bc59db7-53f8-45a4-a605-b59bec04463e",
   "metadata": {},
   "outputs": [
    {
     "ename": "NameError",
     "evalue": "name 'log_loss' is not defined",
     "output_type": "error",
     "traceback": [
      "\u001b[1;31m---------------------------------------------------------------------------\u001b[0m",
      "\u001b[1;31mNameError\u001b[0m                                 Traceback (most recent call last)",
      "Input \u001b[1;32mIn [21]\u001b[0m, in \u001b[0;36m<cell line: 11>\u001b[1;34m()\u001b[0m\n\u001b[0;32m      9\u001b[0m xgb_multi\u001b[38;5;241m.\u001b[39mfit(X_train_i, y_train_i)\n\u001b[0;32m     10\u001b[0m y_pred_prob \u001b[38;5;241m=\u001b[39m xgb_multi\u001b[38;5;241m.\u001b[39mpredict_proba(X_test_i)\n\u001b[1;32m---> 11\u001b[0m \u001b[38;5;28mprint\u001b[39m(\u001b[38;5;124m\"\u001b[39m\u001b[38;5;124mLog Loss:\u001b[39m\u001b[38;5;124m\"\u001b[39m, \u001b[43mlog_loss\u001b[49m(y_test_i, y_pred_prob))\n",
      "\u001b[1;31mNameError\u001b[0m: name 'log_loss' is not defined"
     ]
    }
   ],
   "source": [
    "# 30. Train an XGBoost Classifier for multi-class classification and evaluate using log-loss.\n",
    "from sklearn.preprocessing import LabelEncoder\n",
    "from sklearn.datasets import load_iris\n",
    "\n",
    "iris = load_iris()\n",
    "X_iris, y_iris = iris.data, iris.target\n",
    "X_train_i, X_test_i, y_train_i, y_test_i = train_test_split(X_iris, y_iris, test_size=0.2, random_state=42)\n",
    "xgb_multi = XGBClassifier(objective='multi:softprob', num_class=3, eval_metric='mlogloss')\n",
    "xgb_multi.fit(X_train_i, y_train_i)\n",
    "y_pred_prob = xgb_multi.predict_proba(X_test_i)\n",
    "print(\"Log Loss:\", log_loss(y_test_i, y_pred_prob))\n"
   ]
  },
  {
   "cell_type": "code",
   "execution_count": null,
   "id": "611fbf9f-bd12-49c9-8e60-cddc4c2ecf9a",
   "metadata": {},
   "outputs": [],
   "source": []
  }
 ],
 "metadata": {
  "kernelspec": {
   "display_name": "Python 3 (ipykernel)",
   "language": "python",
   "name": "python3"
  },
  "language_info": {
   "codemirror_mode": {
    "name": "ipython",
    "version": 3
   },
   "file_extension": ".py",
   "mimetype": "text/x-python",
   "name": "python",
   "nbconvert_exporter": "python",
   "pygments_lexer": "ipython3",
   "version": "3.10.5"
  }
 },
 "nbformat": 4,
 "nbformat_minor": 5
}
